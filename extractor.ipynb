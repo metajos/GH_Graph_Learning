{
 "cells": [
  {
   "cell_type": "code",
   "execution_count": 1,
   "id": "initial_id",
   "metadata": {
    "collapsed": true,
    "ExecuteTime": {
     "end_time": "2024-03-08T16:13:25.616654700Z",
     "start_time": "2024-03-08T16:13:20.109612900Z"
    }
   },
   "outputs": [],
   "source": [
    "from environment_manager import *\n",
    "from gh_graph_extraction import *"
   ]
  },
  {
   "cell_type": "markdown",
   "source": [
    "Create the version Environment"
   ],
   "metadata": {
    "collapsed": false
   },
   "id": "82272e5bc9b7c876"
  },
  {
   "cell_type": "code",
   "outputs": [
    {
     "name": "stdout",
     "output_type": "stream",
     "text": [
      "Setting environment variables\n",
      "Copying vanilla components\n",
      "File copied successfully from C:\\Users\\jossi\\Dropbox\\Office_Work\\Jos\\GH_Graph_Learning\\Grasshopper Components\\240307-CoreComponents\\vanilla_components.csv to ExtractionEnvironments\\240308-initial_test\\00-VanillaComponents\\vanilla_components.csv.\n",
      "Copying components\n",
      "Copying gh files\n"
     ]
    },
    {
     "ename": "TypeError",
     "evalue": "get_logger() missing 1 required positional argument: 'name'",
     "output_type": "error",
     "traceback": [
      "\u001B[1;31m---------------------------------------------------------------------------\u001B[0m",
      "\u001B[1;31mTypeError\u001B[0m                                 Traceback (most recent call last)",
      "Cell \u001B[1;32mIn[2], line 4\u001B[0m\n\u001B[0;32m      2\u001B[0m env \u001B[38;5;241m=\u001B[39m EnvironmentManager\u001B[38;5;241m.\u001B[39mload_environment(\u001B[38;5;124m'\u001B[39m\u001B[38;5;124minitial_test\u001B[39m\u001B[38;5;124m'\u001B[39m)\n\u001B[0;32m      3\u001B[0m GHComponentTable\u001B[38;5;241m.\u001B[39mto_csv(env\u001B[38;5;241m.\u001B[39mdirs[\u001B[38;5;124m'\u001B[39m\u001B[38;5;124mall\u001B[39m\u001B[38;5;124m'\u001B[39m])\n\u001B[1;32m----> 4\u001B[0m loggers \u001B[38;5;241m=\u001B[39m \u001B[43mLogManager\u001B[49m\u001B[38;5;241;43m.\u001B[39;49m\u001B[43mget_logger\u001B[49m\u001B[43m(\u001B[49m\u001B[43m)\u001B[49m\n",
      "\u001B[1;31mTypeError\u001B[0m: get_logger() missing 1 required positional argument: 'name'"
     ]
    }
   ],
   "source": [],
   "metadata": {
    "collapsed": false,
    "ExecuteTime": {
     "end_time": "2024-03-08T16:13:26.162470900Z",
     "start_time": "2024-03-08T16:13:25.618656Z"
    }
   },
   "id": "64fd0d33d5f06ba0",
   "execution_count": 2
  },
  {
   "cell_type": "markdown",
   "source": [],
   "metadata": {
    "collapsed": false
   },
   "id": "a9f16a7912cec374"
  },
  {
   "cell_type": "code",
   "outputs": [],
   "source": [],
   "metadata": {
    "collapsed": false,
    "ExecuteTime": {
     "start_time": "2024-03-08T16:13:26.164915900Z"
    }
   },
   "id": "a8ba16d0e907dbd4"
  }
 ],
 "metadata": {
  "kernelspec": {
   "display_name": "Python 3",
   "language": "python",
   "name": "python3"
  },
  "language_info": {
   "codemirror_mode": {
    "name": "ipython",
    "version": 2
   },
   "file_extension": ".py",
   "mimetype": "text/x-python",
   "name": "python",
   "nbconvert_exporter": "python",
   "pygments_lexer": "ipython2",
   "version": "2.7.6"
  }
 },
 "nbformat": 4,
 "nbformat_minor": 5
}
