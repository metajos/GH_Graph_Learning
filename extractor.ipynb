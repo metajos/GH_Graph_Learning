{
 "cells": [
  {
   "cell_type": "code",
   "execution_count": 1,
   "id": "initial_id",
   "metadata": {
    "collapsed": true,
    "ExecuteTime": {
     "end_time": "2024-03-11T17:34:05.454267900Z",
     "start_time": "2024-03-11T17:33:59.833064500Z"
    }
   },
   "outputs": [],
   "source": [
    "from environment_manager import *"
   ]
  },
  {
   "cell_type": "markdown",
   "source": [
    "Create the version Environment"
   ],
   "metadata": {
    "collapsed": false
   },
   "id": "82272e5bc9b7c876"
  },
  {
   "cell_type": "code",
   "outputs": [
    {
     "name": "stdout",
     "output_type": "stream",
     "text": [
      "Setting environment variables\n",
      "Copying vanilla components\n",
      "File copied successfully from C:\\Users\\jossi\\Dropbox\\Office_Work\\Jos\\GH_Graph_Learning\\Grasshopper Components\\240307-CoreComponents\\vanilla_components.csv to ExtractionEnvironments\\240308-initial_test\\00-VanillaComponents\\vanilla_components.csv.\n",
      "Copying components\n",
      "Copying gh files\n"
     ]
    }
   ],
   "source": [
    "\n",
    "name = \"240308-initial_test\"\n",
    "env = load_create_environment(name)\n",
    "gct = GHComponentTable\n",
    "GHComponentTable.initialise()\n",
    "\n"
   ],
   "metadata": {
    "collapsed": false,
    "ExecuteTime": {
     "end_time": "2024-03-11T17:34:06.094555800Z",
     "start_time": "2024-03-11T17:34:05.456267800Z"
    }
   },
   "id": "64fd0d33d5f06ba0",
   "execution_count": 2
  },
  {
   "cell_type": "markdown",
   "source": [],
   "metadata": {
    "collapsed": false
   },
   "id": "a9f16a7912cec374"
  },
  {
   "cell_type": "code",
   "outputs": [],
   "source": [],
   "metadata": {
    "collapsed": false,
    "ExecuteTime": {
     "end_time": "2024-03-11T17:34:06.110337700Z",
     "start_time": "2024-03-11T17:34:06.095560700Z"
    }
   },
   "id": "a8ba16d0e907dbd4",
   "execution_count": 2
  },
  {
   "cell_type": "code",
   "outputs": [],
   "source": [
    "# gh_file = env.dirs[\"files\"] /\"210309_Canopy Modelling.gh\"\n",
    "# # gh_file = env.dirs[\"files\"] /'test.gh'\n",
    "# doc = GHProcessor.get_ghdoc(str(gh_file))\n",
    "# t_obj = [\"Panel\"]\n",
    "# illegal = [\"Sketch\",\"Scribble\"]\n",
    "# test_objects = []\n",
    "# canvas = Canvas(gh_file.stem, doc, env)\n",
    "# for object in doc.Objects:\n",
    "#     c = GHComponent(object)\n",
    "#     print(f\"{c.name}, {c.get_connections(canvas)}\")\n"
   ],
   "metadata": {
    "collapsed": false,
    "ExecuteTime": {
     "end_time": "2024-03-11T17:34:06.126843900Z",
     "start_time": "2024-03-11T17:34:06.110337700Z"
    }
   },
   "id": "2f8c36dc8b6ad86f",
   "execution_count": 3
  },
  {
   "cell_type": "code",
   "outputs": [],
   "source": [
    "import Grasshopper.Kernel as ghk\n",
    "from Grasshopper.Kernel import GH_DocumentIO"
   ],
   "metadata": {
    "collapsed": false,
    "ExecuteTime": {
     "end_time": "2024-03-11T17:34:06.139981100Z",
     "start_time": "2024-03-11T17:34:06.125449400Z"
    }
   },
   "id": "590e9864d32f886a",
   "execution_count": 4
  },
  {
   "cell_type": "code",
   "outputs": [],
   "source": [
    "\n",
    "# file = r\"C:\\Users\\jossi\\Dropbox\\Office_Work\\Jos\\GH_Graph_Learning\\test\\all_components_.gh\"\n",
    "# doc = GHProcessor.get_ghdoc(file)\n",
    "# \n",
    "# comp = GHComponentTable\n",
    "# comp.initialise()\n",
    "# \n",
    "# object_proxies = GHComponentTable.object_proxies\n",
    "# \n",
    "# \n",
    "# i_space = 100.\n",
    "# j_space = 200.\n",
    "# currenttype = object_proxies[0].category\n",
    "# pivot = [0, 0]\n",
    "# problems = [] \n",
    "# for obj in object_proxies:\n",
    "#     if obj.name == \"FeatureRequest\":\n",
    "#         continue\n",
    "#     if obj.category != currenttype:\n",
    "#         currenttype = obj.category\n",
    "#         pivot[1] += j_space\n",
    "#         pivot[0] = 0\n",
    "#     try:\n",
    "#         print(obj.name)\n",
    "#         dobj = obj.obj_proxy.CreateInstance()\n",
    "#         dobj.Attributes.Pivot = System.Drawing.PointF(pivot[0], pivot[1])\n",
    "#         doc.AddObject(dobj, False)\n",
    "#         pass\n",
    "#     except AttributeError as e:\n",
    "#         problems.append(obj)\n",
    "#         print(f\"{e}:{obj.name}\")\n",
    "#         continue\n",
    "#     except Exception as e:\n",
    "#         problems.append(obj)\n",
    "#         print(f\"{e}:{obj.name}\")\n",
    "#     pivot[0] += i_space\n",
    "# ghdio = GH_DocumentIO(doc)\n",
    "# ghdio.Save()\n",
    "# # print(problems)"
   ],
   "metadata": {
    "collapsed": false,
    "ExecuteTime": {
     "end_time": "2024-03-11T17:34:06.157149700Z",
     "start_time": "2024-03-11T17:34:06.141986700Z"
    }
   },
   "id": "4bc99b3e33625018",
   "execution_count": 5
  },
  {
   "cell_type": "code",
   "outputs": [],
   "source": [
    "def doc_save(doc):\n",
    "    ghdio = GH_DocumentIO(doc)\n",
    "    ghdio.Save()    \n",
    "\n",
    "def get_component_type(component):\n",
    "    pattern = r\"^(.*?)_OBSOLETE\"\n",
    "    match = re.search(pattern, str(component))\n",
    "    return match.group(1) if match else None\n",
    "\n",
    "def create_new_component(component_type):\n",
    "    replacement_guids = GHComponentTable.get_guid_by_type(component_type)\n",
    "    if replacement_guids:\n",
    "        new_component_proxy = GHComponentTable.search_component_by_guid(System.Guid(replacement_guids[0]))\n",
    "        if new_component_proxy:\n",
    "            return new_component_proxy.CreateInstance()\n",
    "    return None\n",
    "\n",
    "def rewire_connections(old_component, new_component):\n",
    "    old_component_obj = GHComponent_.convert_cls(old_component, ghk.IGH_Component)\n",
    "    new_component_obj = GHComponent_.convert_cls(new_component, ghk.IGH_Component)\n",
    "\n",
    "    if old_component_obj and new_component_obj:\n",
    "        for input, new_input in zip(old_component_obj.Params.Input, new_component_obj.Params.Input):\n",
    "            for source in input.Sources:\n",
    "                new_input.AddSource(source)\n",
    "        for output, new_output in zip(old_component_obj.Params.Output, new_component_obj.Params.Output):\n",
    "            for recipient in output.Recipients:\n",
    "                recipient.AddSource(new_output)\n",
    "\n",
    "    else:\n",
    "        old_param_obj = GHComponent_.convert_cls(old_component, ghk.IGH_Param)\n",
    "        new_param_obj = GHComponent_.convert_cls(new_component, ghk.IGH_Param)\n",
    "\n",
    "        if old_param_obj and new_param_obj:\n",
    "            for source in old_param_obj.Sources:\n",
    "                new_param_obj.AddSource(source)\n",
    "            for recipient in old_param_obj.Recipients:\n",
    "                recipient.AddSource(new_param_obj)\n",
    "\n",
    "        else:\n",
    "            print(f\"Cannot rewire connections. Incompatible component types: {type(old_component)} and {type(new_component)}\")\n",
    "\n",
    "\n",
    "def replace_component(doc, old_component, new_component):\n",
    "    if new_component:\n",
    "        new_component.Attributes.Pivot = old_component.Attributes.Pivot\n",
    "        doc.AddObject(new_component, False)\n",
    "        rewire_connections(old_component, new_component)\n",
    "        doc.RemoveObject(old_component, True)\n",
    "        return True\n",
    "    return False\n",
    "\n",
    "def replace_obsolete_components(doc):\n",
    "    for component in list(doc.Objects):\n",
    "        if hasattr(component, 'Obsolete') and component.Obsolete:\n",
    "            component_type = get_component_type(component)\n",
    "            if component_type:\n",
    "                new_component = create_new_component(component_type)\n",
    "                if not replace_component(doc, component, new_component):\n",
    "                    print(f\"Could not replace obsolete component: {component.Name}\")\n",
    "    print(\"Replacement of obsolete components complete.\")\n",
    "    return doc\n"
   ],
   "metadata": {
    "collapsed": false,
    "ExecuteTime": {
     "end_time": "2024-03-11T18:19:23.305185Z",
     "start_time": "2024-03-11T18:19:23.290109Z"
    }
   },
   "id": "11534961f7f18b5f",
   "execution_count": 34
  },
  {
   "cell_type": "code",
   "outputs": [],
   "source": [],
   "metadata": {
    "collapsed": false,
    "ExecuteTime": {
     "end_time": "2024-03-11T18:08:58.621068800Z",
     "start_time": "2024-03-11T18:08:58.602100700Z"
    }
   },
   "id": "25ffa73490b75e42",
   "execution_count": 26
  },
  {
   "cell_type": "code",
   "outputs": [
    {
     "name": "stdout",
     "output_type": "stream",
     "text": [
      "Replacement of obsolete components complete.\n"
     ]
    }
   ],
   "source": [
    "import re\n",
    "file = r\"C:\\Users\\jossi\\Dropbox\\Office_Work\\Jos\\GH_Graph_Learning\\TTD\\missing comps\\missingcomps.gh\"\n",
    "doc = GHProcessor.get_ghdoc(file)\n",
    "doc = replace_obsolete_components(doc)\n",
    "doc_save(doc)\n",
    "            \n"
   ],
   "metadata": {
    "collapsed": false,
    "ExecuteTime": {
     "end_time": "2024-03-11T18:19:27.371154700Z",
     "start_time": "2024-03-11T18:19:27.221018300Z"
    }
   },
   "id": "9fd1e238a55d134f",
   "execution_count": 35
  },
  {
   "cell_type": "code",
   "outputs": [
    {
     "data": {
      "text/plain": "  category         name                                  guid nickname  \\\n0        X      Example  d541404d-b806-453e-8351-a954e824ed22        X   \n1    Curve          Arc  bb59bffc-f54c-4682-9778-f6c3fe74fce3      Arc   \n2    Curve      Arc 3Pt  9fa1b081-b1c7-4a12-a163-0aa8da9ff6c4      Arc   \n3    Curve      Arc SED  9d2583dd-6cf5-497c-8c40-c9a290598396      Arc   \n4    Curve  Bezier Span  30ce59ce-22a1-49ee-9e21-e6d16b3684a8   BzSpan   \n\n                                         description  \\\n0                                            Example   \n1  Create an arc defined by base plane, radius an...   \n2                Create an arc through three points.   \n3  Create an arc defined by start point, end poin...   \n4  Construct a bezier span from endpoints and tan...   \n\n                                                type           library  \n0  Grasshopper.Kernel.Components.GH_DocExampleCom...       Grasshopper  \n1                      CurveComponents.Component_Arc  Curve Components  \n2                   CurveComponents.Component_Arc3Pt  Curve Components  \n3                   CurveComponents.Component_ArcSED  Curve Components  \n4               CurveComponents.Component_BezierSpan  Curve Components  ",
      "text/html": "<div>\n<style scoped>\n    .dataframe tbody tr th:only-of-type {\n        vertical-align: middle;\n    }\n\n    .dataframe tbody tr th {\n        vertical-align: top;\n    }\n\n    .dataframe thead th {\n        text-align: right;\n    }\n</style>\n<table border=\"1\" class=\"dataframe\">\n  <thead>\n    <tr style=\"text-align: right;\">\n      <th></th>\n      <th>category</th>\n      <th>name</th>\n      <th>guid</th>\n      <th>nickname</th>\n      <th>description</th>\n      <th>type</th>\n      <th>library</th>\n    </tr>\n  </thead>\n  <tbody>\n    <tr>\n      <th>0</th>\n      <td>X</td>\n      <td>Example</td>\n      <td>d541404d-b806-453e-8351-a954e824ed22</td>\n      <td>X</td>\n      <td>Example</td>\n      <td>Grasshopper.Kernel.Components.GH_DocExampleCom...</td>\n      <td>Grasshopper</td>\n    </tr>\n    <tr>\n      <th>1</th>\n      <td>Curve</td>\n      <td>Arc</td>\n      <td>bb59bffc-f54c-4682-9778-f6c3fe74fce3</td>\n      <td>Arc</td>\n      <td>Create an arc defined by base plane, radius an...</td>\n      <td>CurveComponents.Component_Arc</td>\n      <td>Curve Components</td>\n    </tr>\n    <tr>\n      <th>2</th>\n      <td>Curve</td>\n      <td>Arc 3Pt</td>\n      <td>9fa1b081-b1c7-4a12-a163-0aa8da9ff6c4</td>\n      <td>Arc</td>\n      <td>Create an arc through three points.</td>\n      <td>CurveComponents.Component_Arc3Pt</td>\n      <td>Curve Components</td>\n    </tr>\n    <tr>\n      <th>3</th>\n      <td>Curve</td>\n      <td>Arc SED</td>\n      <td>9d2583dd-6cf5-497c-8c40-c9a290598396</td>\n      <td>Arc</td>\n      <td>Create an arc defined by start point, end poin...</td>\n      <td>CurveComponents.Component_ArcSED</td>\n      <td>Curve Components</td>\n    </tr>\n    <tr>\n      <th>4</th>\n      <td>Curve</td>\n      <td>Bezier Span</td>\n      <td>30ce59ce-22a1-49ee-9e21-e6d16b3684a8</td>\n      <td>BzSpan</td>\n      <td>Construct a bezier span from endpoints and tan...</td>\n      <td>CurveComponents.Component_BezierSpan</td>\n      <td>Curve Components</td>\n    </tr>\n  </tbody>\n</table>\n</div>"
     },
     "execution_count": 8,
     "metadata": {},
     "output_type": "execute_result"
    }
   ],
   "source": [],
   "metadata": {
    "collapsed": false,
    "ExecuteTime": {
     "end_time": "2024-03-11T17:34:06.202304700Z",
     "start_time": "2024-03-11T17:34:06.187309Z"
    }
   },
   "id": "b2e3ad35776b0d86",
   "execution_count": 8
  },
  {
   "cell_type": "code",
   "outputs": [
    {
     "name": "stdout",
     "output_type": "stream",
     "text": [
      "['86b28a7e-94d9-4791-8306-e13e10d5f8d5']\n",
      "['86b28a7e-94d9-4791-8306-e13e10d5f8d5']\n"
     ]
    }
   ],
   "source": [
    "file = r\"C:\\Users\\jossi\\Dropbox\\Office_Work\\Jos\\GH_Graph_Learning\\TTD\\missing comps\\missingcomps.gh\"\n",
    "doc = GHProcessor.get_ghdoc(file)\n",
    "replace_obsolete_components(doc)\n",
    "# print(doc)\n",
    "# for component in doc.Objects:\n",
    "#     try:\n",
    "#         a = GHComponentTable.get_guid_to_idx(str(component.ComponentGuid))\n",
    "#         if a is None:\n",
    "#             print(component)\n",
    "#     except Exception as e:\n",
    "#         print(e)"
   ],
   "metadata": {
    "collapsed": false,
    "ExecuteTime": {
     "end_time": "2024-03-11T17:34:06.373747800Z",
     "start_time": "2024-03-11T17:34:06.202304700Z"
    }
   },
   "id": "1e166cf438c4c94",
   "execution_count": 9
  },
  {
   "cell_type": "code",
   "outputs": [],
   "source": [
    "# file = r\"C:\\Users\\jossi\\Dropbox\\Office_Work\\Jos\\GH_Graph_Learning\\TTD\\bifocals\\bifocals_on.gh\"\n",
    "# illegals_dict = {\n",
    "#     \"Bifocals\": \"aced9701-8be9-4860-bc37-7e22622afff4\",\n",
    "#     \"Group\" : \"c552a431-af5b-46a9-a8a4-0fcbc27ef596\"\n",
    "# }\n",
    "# illegals_set = set([str(v) for v in illegals_dict.values()])\n",
    "# \n",
    "# def preprocess(doc, overwrite=False):\n",
    "#     removables = []\n",
    "#     # iterate over all the objects and find those in the set of objects we want to remove\n",
    "#     for obj in doc.Objects:\n",
    "#         if str(obj.ComponentGuid) in illegals_set:\n",
    "#             removables.append(obj)\n",
    "#     # remove all the unwanted objects\n",
    "#     for obj in removables:\n",
    "#         doc.RemoveObject(obj, True)\n",
    "#     if overwrite:\n",
    "#         ghdio = GH_DocumentIO(doc)\n",
    "#         ghdio.Save()\n",
    "#     print(\"preprocessing complete\")\n",
    "#     return doc\n",
    "# \n",
    "# doc = GHProcessor.get_ghdoc(file)\n",
    "# print(f\"# before: {len(doc.Objects)}\")\n",
    "# doc = preprocess(doc, True)\n",
    "# print(f\"# after: {len(doc.Objects)}\")\n"
   ],
   "metadata": {
    "collapsed": false,
    "ExecuteTime": {
     "end_time": "2024-03-11T17:34:06.396689400Z",
     "start_time": "2024-03-11T17:34:06.375752600Z"
    }
   },
   "id": "482b3b80f7cedaca",
   "execution_count": 10
  },
  {
   "cell_type": "code",
   "outputs": [],
   "source": [
    "class GHNode_:\n",
    "    def __init__(self, obj: ghk.IGH_DocumentObject):\n",
    "        self.obj = obj\n",
    "        self.category = obj.Category\n",
    "        self.name = obj.Name\n",
    "        self.id = str(obj.InstanceGuid)\n",
    "        self.position = obj.Attributes.Pivot if hasattr(obj.Attributes, \"Pivot\") else None\n",
    "        self.uid = f\"{self.category}_{self.name}_{self.id[-5:]}\"\n",
    "        # Assuming global_idx is somehow related to GHComponentTable, which might need instance reference\n",
    "        self.global_idx = GHComponentTable.component_to_idx(self)  # This requires GHComponentTable method adjustment\n",
    "        self.graph_id = None\n",
    "\n",
    "    def get_recipients(self):\n",
    "        \"\"\"To be implemented by the subclass\"\"\"\n",
    "        pass\n",
    "\n",
    "    def __str__(self):\n",
    "        return f\"{self.uid}\"\n",
    "\n",
    "    def __repr__(self):\n",
    "        return f\"<GHNode {self.__str__()}>\"\n",
    "\n",
    "    def log_properties(self):\n",
    "        log = {\n",
    "            f\"Category: {self.category}, \"\n",
    "            f\"Name: {self.name}, \"\n",
    "            f\"ID: {self.id[-5:]}, \"\n",
    "            f\"Position: {self.position}\"\n",
    "            f\"Global: {self.global_idx}\"\n",
    "        }\n",
    "        # This method seems intended for logging or debugging, consider how it's used and adapt accordingly."
   ],
   "metadata": {
    "collapsed": false,
    "ExecuteTime": {
     "end_time": "2024-03-11T17:34:06.407505400Z",
     "start_time": "2024-03-11T17:34:06.392966700Z"
    }
   },
   "id": "3d0809334e88f858",
   "execution_count": 11
  },
  {
   "cell_type": "code",
   "outputs": [],
   "source": [
    "class GHParam_:\n",
    "\n",
    "    def __init__(self, obj):\n",
    "        self.obj = obj\n",
    "        self.parent = GHNode(ghk.IGH_DocumentObject(obj).Attributes.GetTopLevel.DocObject)\n",
    "        self.name = obj.Name\n",
    "        self.datamapping = int(obj.DataMapping)  # enumerator 0:none, 1:Flatten, 2:Graft\n",
    "        self.pkind = obj.Kind  # the kind: floating (top level), input (parameter tied to component as input), output (parameter tied to a component as an output\n",
    "        self.dataEmitter = obj.IsDataProvider  # boolean stating whether this object is able to emit data\n",
    "        # self.typ = obj.Type\n",
    "        self.typname = obj.TypeName  # human-readable descriptor of this parameter\n",
    "        self.optional = obj.Optional  # gets whether this parameter is optional to the functioning of the component\n",
    "        # logging.info(f'GHComponent {self.parent.name} Params: {self.log_properties()}')\n",
    "\n",
    "    @property\n",
    "    def recipients(self):\n",
    "        # if there are no recipents to this parameter, return none\n",
    "        return [rcp for rcp in self.obj.Recipients] if len(self.obj.Recipients) > 0 else None\n",
    "\n",
    "    @property\n",
    "    def sources(self):\n",
    "        # if there are no recipents to this parameter, return none\n",
    "        return [rcp for rcp in self.obj.Sources] if len(self.obj.Sources) > 0 else None\n",
    "\n",
    "    @property\n",
    "    def data(self):\n",
    "        return self.obj.VolatileData.DataDescription(False, False)\n",
    "\n",
    "    def log_properties(self):\n",
    "        properties = (\n",
    "            f\"Name: {self.name}, \"\n",
    "            f\"DataMapping: {self.datamapping}, \"\n",
    "            f\"Kind: {self.pkind}, \"\n",
    "            f\"DataEmitter: {self.dataEmitter}, \"\n",
    "            f\"TypeName: {self.typname}, \"\n",
    "            f\"Optional: {self.optional}, \"\n",
    "            f\"Data: {self.data}, \"\n",
    "        )\n",
    "        return properties\n",
    "\n",
    "    def __str__(self):\n",
    "        repr_obj = ghk.IGH_DocumentObject(self.obj)\n",
    "        return f\"param:{self.name}\"\n",
    "\n",
    "    def __repr__(self):\n",
    "        return f\"<GHParam {self.__str__()}>\""
   ],
   "metadata": {
    "collapsed": false,
    "ExecuteTime": {
     "end_time": "2024-03-11T17:34:06.427092800Z",
     "start_time": "2024-03-11T17:34:06.409008200Z"
    }
   },
   "id": "b6a9d253f9a7b827",
   "execution_count": 12
  },
  {
   "cell_type": "code",
   "outputs": [],
   "source": [
    "from typing import Union\n",
    "class GHComponent_(GHNode_):\n",
    "    \"\"\"Subclass of GHNode that handles GH components that implement IGH_Component.\n",
    "    Each GHComponent object should contain a list of input parameter and output parameter objects.\n",
    "    These parameter objects have access to the sources and recipients of the parameter\"\"\"\n",
    "\n",
    "    def __init__(self, obj):\n",
    "        super().__init__(obj)\n",
    "        self.obj: Union[IGH_Component or IGH_Param] = None\n",
    "        self.iparams = []\n",
    "        self.oparams = []\n",
    "        self.recipients = []\n",
    "        self.iparams_dict = {}\n",
    "        self.oparams_dict = {}\n",
    "\n",
    "        # Attempt to initialize parameters\n",
    "        self.initialize_parameters(obj)\n",
    "    \n",
    "    def initialize_parameters(self, obj):\n",
    "        if GHComponent_.is_cls(obj, ghk.IGH_Component):\n",
    "            self.obj = IGH_Component(obj)\n",
    "            self.iparams = [GHParam_(p) for p in self.obj.Params.Input]\n",
    "            self.oparams = [GHParam_(p) for p in self.obj.Params.Output]\n",
    "        \n",
    "        elif GHComponent_.is_cls(obj, ghk.IGH_Param):\n",
    "            self.obj = IGH_Param(obj)\n",
    "            param = GHParam_(self.obj)\n",
    "            self.iparams = [param]\n",
    "            self.oparams = [param]\n",
    "            \n",
    "        else:\n",
    "            self.obj = GHComponentTable.idx_to_component()\n",
    "    \n",
    "    @staticmethod\n",
    "    def is_cls(obj, clas):\n",
    "        try:\n",
    "            clas(obj)\n",
    "            return True\n",
    "        except Exception:\n",
    "            return False\n",
    "    @staticmethod\n",
    "    def convert_cls(obj, clas):\n",
    "        try:\n",
    "            return clas(obj)\n",
    "        except Exception:\n",
    "            return None\n",
    "            "
   ],
   "metadata": {
    "collapsed": false,
    "ExecuteTime": {
     "end_time": "2024-03-11T17:34:06.437615700Z",
     "start_time": "2024-03-11T17:34:06.425092500Z"
    }
   },
   "id": "994016d75ad1e6cf",
   "execution_count": 13
  },
  {
   "cell_type": "code",
   "outputs": [
    {
     "name": "stdout",
     "output_type": "stream",
     "text": [
      "Flip\n",
      "Bounding Box\n",
      "Panel Connections\n",
      "Mesh\n",
      "Line\n",
      "Deconstruct Brep\n",
      "Number Slider\n",
      "Panel\n",
      "Curve\n",
      "Curve\n",
      "Distance\n",
      "Panel\n",
      "Catenary\n",
      "Sort List\n",
      "Area\n",
      "Flip Brep\n",
      "Point In Brep\n",
      "Flatten Tree\n",
      "Length\n",
      "Bounds\n",
      "Point\n"
     ]
    },
    {
     "ename": "TypeError",
     "evalue": "idx_to_component() missing 1 required positional argument: 'idx'",
     "output_type": "error",
     "traceback": [
      "\u001B[1;31m---------------------------------------------------------------------------\u001B[0m",
      "\u001B[1;31mTypeError\u001B[0m                                 Traceback (most recent call last)",
      "Cell \u001B[1;32mIn[14], line 10\u001B[0m\n\u001B[0;32m      7\u001B[0m issue_type \u001B[38;5;241m=\u001B[39m []\n\u001B[0;32m      8\u001B[0m \u001B[38;5;28;01mfor\u001B[39;00m obj \u001B[38;5;129;01min\u001B[39;00m random\u001B[38;5;241m.\u001B[39mchoices(\u001B[38;5;28mlist\u001B[39m(docobjs), k\u001B[38;5;241m=\u001B[39ml):\n\u001B[1;32m---> 10\u001B[0m     a \u001B[38;5;241m=\u001B[39m \u001B[43mGHComponent_\u001B[49m\u001B[43m(\u001B[49m\u001B[43mobj\u001B[49m\u001B[43m)\u001B[49m\n\u001B[0;32m     11\u001B[0m     \u001B[38;5;28mprint\u001B[39m(a\u001B[38;5;241m.\u001B[39mname)\n",
      "Cell \u001B[1;32mIn[13], line 17\u001B[0m, in \u001B[0;36mGHComponent_.__init__\u001B[1;34m(self, obj)\u001B[0m\n\u001B[0;32m     14\u001B[0m \u001B[38;5;28mself\u001B[39m\u001B[38;5;241m.\u001B[39moparams_dict \u001B[38;5;241m=\u001B[39m {}\n\u001B[0;32m     16\u001B[0m \u001B[38;5;66;03m# Attempt to initialize parameters\u001B[39;00m\n\u001B[1;32m---> 17\u001B[0m \u001B[38;5;28;43mself\u001B[39;49m\u001B[38;5;241;43m.\u001B[39;49m\u001B[43minitialize_parameters\u001B[49m\u001B[43m(\u001B[49m\u001B[43mobj\u001B[49m\u001B[43m)\u001B[49m\n",
      "Cell \u001B[1;32mIn[13], line 32\u001B[0m, in \u001B[0;36mGHComponent_.initialize_parameters\u001B[1;34m(self, obj)\u001B[0m\n\u001B[0;32m     29\u001B[0m     \u001B[38;5;28mself\u001B[39m\u001B[38;5;241m.\u001B[39moparams \u001B[38;5;241m=\u001B[39m [param]\n\u001B[0;32m     31\u001B[0m \u001B[38;5;28;01melse\u001B[39;00m:\n\u001B[1;32m---> 32\u001B[0m     \u001B[38;5;28mself\u001B[39m\u001B[38;5;241m.\u001B[39mobj \u001B[38;5;241m=\u001B[39m \u001B[43mGHComponentTable\u001B[49m\u001B[38;5;241;43m.\u001B[39;49m\u001B[43midx_to_component\u001B[49m\u001B[43m(\u001B[49m\u001B[43m)\u001B[49m\n",
      "\u001B[1;31mTypeError\u001B[0m: idx_to_component() missing 1 required positional argument: 'idx'"
     ]
    }
   ],
   "source": [
    "import random\n",
    "n = 100\n",
    "l = len(doc.Objects)\n",
    "random.seed(2)\n",
    "docobjs = doc.Objects\n",
    "issues = []\n",
    "issue_type = []\n",
    "for obj in random.choices(list(docobjs), k=l):\n",
    " \n",
    "    a = GHComponent_(obj)\n",
    "    print(a.name)\n",
    "#     except Exception as e:\n",
    "#         issue_type.append(e)\n",
    "#         issues.append(obj)\n",
    "# # print(issues)\n",
    "# print(len(issues))\n"
   ],
   "metadata": {
    "collapsed": false,
    "ExecuteTime": {
     "end_time": "2024-03-11T17:34:06.895509800Z",
     "start_time": "2024-03-11T17:34:06.439120500Z"
    }
   },
   "id": "2e3d9fd0161d076a",
   "execution_count": 14
  },
  {
   "cell_type": "code",
   "outputs": [],
   "source": [
    "\n",
    "    \n",
    "def input_params(obj: IGH_Component):\n",
    "    assert is_cls(obj, IGH_Component), \"The component is not coming in as an IGH_Component\"\n",
    "    obj = convert_cls(obj, IGH_Component)\n",
    "    parameters = []\n",
    "    if obj.Params.Input:\n",
    "        for p in obj.Params.Input:\n",
    "                parameters.append(GHParam_(p))\n",
    "    return parameters\n",
    "def output_params(obj: IGH_Component):\n",
    "    assert is_cls(obj, IGH_Component), \"The component is not coming in as an IGH_Component\"\n",
    "    obj = convert_cls(obj, IGH_Component)\n",
    "    parameters = []\n",
    "    if obj.Params.Output:\n",
    "        for p in obj.Params.Output:\n",
    "            parameters.append(GHParam_(p))\n",
    "\n",
    "    return parameters\n",
    "\n",
    "\n",
    "        "
   ],
   "metadata": {
    "collapsed": false,
    "ExecuteTime": {
     "start_time": "2024-03-11T17:34:06.891506200Z"
    }
   },
   "id": "392bdbe9502c543d",
   "execution_count": null
  },
  {
   "cell_type": "code",
   "outputs": [],
   "source": [
    "def src_rcpts(obj):\n",
    "    inputs = []\n",
    "    outputs = []\n",
    "    param = is_cls(obj, IGH_Param)\n",
    "    comp = convert_cls(obj, IGH_Component)\n",
    "    # print(f\"{obj.Name} -> ({comp},{param})\")\n",
    "    if comp:\n",
    "        inputs = inputs + input_params(obj)\n",
    "        outputs = outputs + output_params(obj)\n",
    "    return inputs, outputs\n",
    "\n",
    "for obj in issues:\n",
    "    srcs, recps = src_rcpts(obj)\n",
    "    print(f\"{obj.Name} - s:{srcs} r:{recps}\")    \n",
    "    \n",
    "       \n",
    "            "
   ],
   "metadata": {
    "collapsed": false,
    "ExecuteTime": {
     "start_time": "2024-03-11T17:34:06.892510200Z"
    }
   },
   "id": "361365dc8361be18",
   "execution_count": null
  },
  {
   "cell_type": "code",
   "outputs": [],
   "source": [],
   "metadata": {
    "collapsed": false,
    "ExecuteTime": {
     "start_time": "2024-03-11T17:34:06.893510Z"
    }
   },
   "id": "db5468b75b5f3dd0",
   "execution_count": null
  }
 ],
 "metadata": {
  "kernelspec": {
   "display_name": "Python 3",
   "language": "python",
   "name": "python3"
  },
  "language_info": {
   "codemirror_mode": {
    "name": "ipython",
    "version": 2
   },
   "file_extension": ".py",
   "mimetype": "text/x-python",
   "name": "python",
   "nbconvert_exporter": "python",
   "pygments_lexer": "ipython2",
   "version": "2.7.6"
  }
 },
 "nbformat": 4,
 "nbformat_minor": 5
}
