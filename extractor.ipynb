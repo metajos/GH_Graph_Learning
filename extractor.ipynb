{
 "cells": [
  {
   "cell_type": "code",
   "execution_count": 13,
   "id": "initial_id",
   "metadata": {
    "collapsed": true,
    "ExecuteTime": {
     "end_time": "2024-03-11T20:22:34.865178800Z",
     "start_time": "2024-03-11T20:22:34.852179700Z"
    }
   },
   "outputs": [],
   "source": [
    "from environment_manager import *"
   ]
  },
  {
   "cell_type": "markdown",
   "source": [
    "Create the version Environment"
   ],
   "metadata": {
    "collapsed": false
   },
   "id": "82272e5bc9b7c876"
  },
  {
   "cell_type": "code",
   "outputs": [],
   "source": [
    "from Grasshopper.Kernel import IGH_Component, IGH_Param\n",
    "name = \"240308-initial_test\"\n",
    "env = load_create_environment(name)\n",
    "gct = GHComponentTable\n",
    "GHComponentTable.initialise()\n",
    "\n"
   ],
   "metadata": {
    "collapsed": false,
    "ExecuteTime": {
     "end_time": "2024-03-11T20:22:35.242763700Z",
     "start_time": "2024-03-11T20:22:34.868179600Z"
    }
   },
   "id": "64fd0d33d5f06ba0",
   "execution_count": 14
  },
  {
   "cell_type": "markdown",
   "source": [],
   "metadata": {
    "collapsed": false
   },
   "id": "a9f16a7912cec374"
  },
  {
   "cell_type": "code",
   "outputs": [],
   "source": [],
   "metadata": {
    "collapsed": false,
    "ExecuteTime": {
     "end_time": "2024-03-11T20:22:35.259763300Z",
     "start_time": "2024-03-11T20:22:35.243763700Z"
    }
   },
   "id": "a8ba16d0e907dbd4",
   "execution_count": 14
  },
  {
   "cell_type": "code",
   "outputs": [],
   "source": [
    "# gh_file = env.dirs[\"files\"] /\"210309_Canopy Modelling.gh\"\n",
    "# # gh_file = env.dirs[\"files\"] /'test.gh'\n",
    "# doc = GHProcessor.get_ghdoc(str(gh_file))\n",
    "# t_obj = [\"Panel\"]\n",
    "# illegal = [\"Sketch\",\"Scribble\"]\n",
    "# test_objects = []\n",
    "# canvas = Canvas(gh_file.stem, doc, env)\n",
    "# for object in doc.Objects:\n",
    "#     c = GHComponent(object)\n",
    "#     print(f\"{c.name}, {c.get_connections(canvas)}\")\n"
   ],
   "metadata": {
    "collapsed": false,
    "ExecuteTime": {
     "end_time": "2024-03-11T20:22:35.277763900Z",
     "start_time": "2024-03-11T20:22:35.260763600Z"
    }
   },
   "id": "2f8c36dc8b6ad86f",
   "execution_count": 15
  },
  {
   "cell_type": "code",
   "outputs": [],
   "source": [
    "import Grasshopper.Kernel as ghk\n",
    "from Grasshopper.Kernel import GH_DocumentIO"
   ],
   "metadata": {
    "collapsed": false,
    "ExecuteTime": {
     "end_time": "2024-03-11T20:22:35.290255300Z",
     "start_time": "2024-03-11T20:22:35.276763800Z"
    }
   },
   "id": "590e9864d32f886a",
   "execution_count": 16
  },
  {
   "cell_type": "code",
   "outputs": [],
   "source": [
    "import re\n",
    "import System\n",
    "import Grasshopper.Kernel as ghk\n",
    "\n",
    "def doc_save(doc):\n",
    "    ghdio = GH_DocumentIO(doc)\n",
    "    ghdio.Save()    \n",
    "\n",
    "\n",
    "\n",
    "def remove_unwanted_items(doc, illegals_dict):\n",
    "    illegals_set = set([str(v) for v in illegals_dict.values()])\n",
    "    removables = [obj for obj in doc.Objects if str(obj.ComponentGuid) in illegals_set]\n",
    "    for obj in removables:\n",
    "        doc.RemoveObject(obj, True)\n",
    "    return doc\n",
    "\n",
    "def doc_save(doc):\n",
    "    ghdio = GH_DocumentIO(doc)\n",
    "    ghdio.Save()\n",
    "\n",
    "def get_component_type(component):\n",
    "    pattern = r\"^(.*?)_OBSOLETE\"\n",
    "    match = re.search(pattern, str(component))\n",
    "    return match.group(1) if match else None\n",
    "\n",
    "def create_new_component(component_type):\n",
    "    replacement_guids = GHComponentTable.get_guid_by_type(component_type)\n",
    "    if replacement_guids:\n",
    "        new_component_proxy = GHComponentTable.search_component_by_guid(System.Guid(replacement_guids[0]))\n",
    "        if new_component_proxy:\n",
    "            return new_component_proxy.CreateInstance()\n",
    "    return None\n",
    "\n",
    "def rewire_connections(old_component, new_component):\n",
    "    old_component_obj = GHComponent_.convert_cls(old_component, ghk.IGH_Component)\n",
    "    new_component_obj = GHComponent_.convert_cls(new_component, ghk.IGH_Component)\n",
    "\n",
    "    if old_component_obj and new_component_obj:\n",
    "        for input, new_input in zip(old_component_obj.Params.Input, new_component_obj.Params.Input):\n",
    "            for source in input.Sources:\n",
    "                new_input.AddSource(source)\n",
    "        for output, new_output in zip(old_component_obj.Params.Output, new_component_obj.Params.Output):\n",
    "            for recipient in output.Recipients:\n",
    "                recipient.AddSource(new_output)\n",
    "\n",
    "    else:\n",
    "        old_param_obj = GHComponent_.convert_cls(old_component, ghk.IGH_Param)\n",
    "        new_param_obj = GHComponent_.convert_cls(new_component, ghk.IGH_Param)\n",
    "\n",
    "        if old_param_obj and new_param_obj:\n",
    "            for source in old_param_obj.Sources:\n",
    "                new_param_obj.AddSource(source)\n",
    "            for recipient in old_param_obj.Recipients:\n",
    "                recipient.AddSource(new_param_obj)\n",
    "\n",
    "        else:\n",
    "            print(f\"Cannot rewire connections. Incompatible component types: {type(old_component)} and {type(new_component)}\")\n",
    "\n",
    "def replace_component(doc, old_component, new_component):\n",
    "    if new_component:\n",
    "        new_component.Attributes.Pivot = old_component.Attributes.Pivot\n",
    "        doc.AddObject(new_component, False)\n",
    "        rewire_connections(old_component, new_component)\n",
    "        doc.RemoveObject(old_component, True)\n",
    "        return True\n",
    "    return False\n",
    "\n",
    "def replace_obsolete_components(doc):\n",
    "    for component in list(doc.Objects):\n",
    "        if hasattr(component, 'Obsolete') and component.Obsolete:\n",
    "            component_type = get_component_type(component)\n",
    "            if component_type:\n",
    "                new_component = create_new_component(component_type)\n",
    "                if not replace_component(doc, component, new_component):\n",
    "                    print(f\"Could not replace obsolete component: {component.Name}\")\n",
    "    print(\"Replacement of obsolete components complete.\")\n",
    "    return doc\n",
    "\n",
    "def remove_placeholder_components(doc, update=True):\n",
    "    objects = doc.Objects\n",
    "    placeholders = []\n",
    "    for component in doc.Objects:\n",
    "        a = GHComponentTable.get_guid_to_idx(str(component.ComponentGuid))\n",
    "        if a is None:\n",
    "            placeholders.append(component)\n",
    "    if update:\n",
    "        ghk.GH_Document.NewSolution(doc, False)\n",
    "\n",
    "    for placeholder in placeholders:\n",
    "        doc.RemoveObject(placeholder, False)\n",
    "\n",
    "    return doc\n",
    "\n",
    "\n",
    "\n",
    "\n",
    "def preprocess_and_replace(doc, illegals_dict, overwrite=False):\n",
    "    doc = remove_unwanted_items(doc, illegals_dict)\n",
    "    doc = replace_obsolete_components(doc)\n",
    "    doc = remove_placeholder_components(doc)  # Add this line to remove placeholder components\n",
    "\n",
    "    if overwrite:\n",
    "        doc_save(doc)\n",
    "    \n",
    "    print(\"Preprocessing, replacement, and placeholder removal complete.\")\n",
    "    return doc"
   ],
   "metadata": {
    "collapsed": false,
    "ExecuteTime": {
     "end_time": "2024-03-11T20:22:35.309256700Z",
     "start_time": "2024-03-11T20:22:35.298256400Z"
    }
   },
   "id": "482b3b80f7cedaca",
   "execution_count": 17
  },
  {
   "cell_type": "code",
   "outputs": [],
   "source": [
    "class GHNode_:\n",
    "    def __init__(self, obj: ghk.IGH_DocumentObject):\n",
    "        self.obj = obj\n",
    "        self.category = obj.Category\n",
    "        self.name = obj.Name\n",
    "        self.id = str(obj.InstanceGuid)\n",
    "        self.position = obj.Attributes.Pivot if hasattr(obj.Attributes, \"Pivot\") else None\n",
    "        self.uid = f\"{self.category}_{self.name}_{self.id[-5:]}\"\n",
    "        # Assuming global_idx is somehow related to GHComponentTable, which might need instance reference\n",
    "        self.global_idx = GHComponentTable.component_to_idx(self)  # This requires GHComponentTable method adjustment\n",
    "        self.graph_id = None\n",
    "\n",
    "    def get_recipients(self):\n",
    "        \"\"\"To be implemented by the subclass\"\"\"\n",
    "        pass\n",
    "\n",
    "    def __str__(self):\n",
    "        return f\"{self.uid}\"\n",
    "\n",
    "    def __repr__(self):\n",
    "        return f\"<GHNode {self.__str__()}>\"\n",
    "\n",
    "    def log_properties(self):\n",
    "        log = {\n",
    "            f\"Category: {self.category}, \"\n",
    "            f\"Name: {self.name}, \"\n",
    "            f\"ID: {self.id[-5:]}, \"\n",
    "            f\"Position: {self.position}\"\n",
    "            f\"Global: {self.global_idx}\"\n",
    "        }\n",
    "        # This method seems intended for logging or debugging, consider how it's used and adapt accordingly."
   ],
   "metadata": {
    "collapsed": false,
    "ExecuteTime": {
     "end_time": "2024-03-11T20:22:35.323261400Z",
     "start_time": "2024-03-11T20:22:35.310257Z"
    }
   },
   "id": "3d0809334e88f858",
   "execution_count": 18
  },
  {
   "cell_type": "code",
   "outputs": [],
   "source": [
    "class GHParam_:\n",
    "\n",
    "    def __init__(self, obj):\n",
    "        self.obj = obj\n",
    "        self.parent = GHNode(ghk.IGH_DocumentObject(obj).Attributes.GetTopLevel.DocObject)\n",
    "        self.name = obj.Name\n",
    "        self.datamapping = int(obj.DataMapping)  # enumerator 0:none, 1:Flatten, 2:Graft\n",
    "        self.pkind = obj.Kind  # the kind: floating (top level), input (parameter tied to component as input), output (parameter tied to a component as an output\n",
    "        self.dataEmitter = obj.IsDataProvider  # boolean stating whether this object is able to emit data\n",
    "        # self.typ = obj.Type\n",
    "        self.typname = obj.TypeName  # human-readable descriptor of this parameter\n",
    "        self.optional = obj.Optional  # gets whether this parameter is optional to the functioning of the component\n",
    "        # logging.info(f'GHComponent {self.parent.name} Params: {self.log_properties()}')\n",
    "\n",
    "    @property\n",
    "    def recipients(self):\n",
    "        # if there are no recipents to this parameter, return none\n",
    "        return [rcp for rcp in self.obj.Recipients] if len(self.obj.Recipients) > 0 else None\n",
    "\n",
    "    @property\n",
    "    def sources(self):\n",
    "        # if there are no recipents to this parameter, return none\n",
    "        return [rcp for rcp in self.obj.Sources] if len(self.obj.Sources) > 0 else None\n",
    "\n",
    "    @property\n",
    "    def data(self):\n",
    "        return self.obj.VolatileData.DataDescription(False, False)\n",
    "\n",
    "    def log_properties(self):\n",
    "        properties = (\n",
    "            f\"Name: {self.name}, \"\n",
    "            f\"DataMapping: {self.datamapping}, \"\n",
    "            f\"Kind: {self.pkind}, \"\n",
    "            f\"DataEmitter: {self.dataEmitter}, \"\n",
    "            f\"TypeName: {self.typname}, \"\n",
    "            f\"Optional: {self.optional}, \"\n",
    "            f\"Data: {self.data}, \"\n",
    "        )\n",
    "        return properties\n",
    "\n",
    "    def __str__(self):\n",
    "        repr_obj = ghk.IGH_DocumentObject(self.obj)\n",
    "        return f\"param:{self.name}\"\n",
    "\n",
    "    def __repr__(self):\n",
    "        return f\"<GHParam {self.__str__()}>\""
   ],
   "metadata": {
    "collapsed": false,
    "ExecuteTime": {
     "end_time": "2024-03-11T20:22:35.338771900Z",
     "start_time": "2024-03-11T20:22:35.323261400Z"
    }
   },
   "id": "b6a9d253f9a7b827",
   "execution_count": 19
  },
  {
   "cell_type": "code",
   "outputs": [],
   "source": [
    "from typing import Union\n",
    "class GHComponent_(GHNode_):\n",
    "    \"\"\"Subclass of GHNode that handles GH components that implement IGH_Component.\n",
    "    Each GHComponent object should contain a list of input parameter and output parameter objects.\n",
    "    These parameter objects have access to the sources and recipients of the parameter\"\"\"\n",
    "\n",
    "    def __init__(self, obj):\n",
    "        super().__init__(obj)\n",
    "        self.obj: Union[IGH_Component or IGH_Param] = None\n",
    "        self.iparams = []\n",
    "        self.oparams = []\n",
    "        self.recipients = []\n",
    "        self.iparams_dict = {}\n",
    "        self.oparams_dict = {}\n",
    "\n",
    "        # Attempt to initialize parameters\n",
    "        self.initialize_parameters(obj)\n",
    "    \n",
    "    def initialize_parameters(self, obj):\n",
    "        if GHComponent_.is_cls(obj, ghk.IGH_Component):\n",
    "            self.obj = IGH_Component(obj)\n",
    "            self.iparams = [GHParam_(p) for p in self.obj.Params.Input]\n",
    "            self.oparams = [GHParam_(p) for p in self.obj.Params.Output]\n",
    "        \n",
    "        elif GHComponent_.is_cls(obj, ghk.IGH_Param):\n",
    "            self.obj = IGH_Param(obj)\n",
    "            param = GHParam_(self.obj)\n",
    "            self.iparams = [param]\n",
    "            self.oparams = [param]\n",
    "            \n",
    "        else:\n",
    "            self.obj = GHComponentTable.idx_to_component()\n",
    "    \n",
    "    @staticmethod\n",
    "    def is_cls(obj, clas):\n",
    "        try:\n",
    "            clas(obj)\n",
    "            return True\n",
    "        except Exception:\n",
    "            return False\n",
    "    @staticmethod\n",
    "    def convert_cls(obj, clas):\n",
    "        try:\n",
    "            return clas(obj)\n",
    "        except Exception:\n",
    "            return None\n",
    "    \n",
    "    def __str__(self):\n",
    "        return f\"Comp:{self.name}\"\n",
    "    \n",
    "    def __repr__(self):\n",
    "        return f\"<GHNComponent {self.__str__()}>\"\n",
    "            "
   ],
   "metadata": {
    "collapsed": false,
    "ExecuteTime": {
     "end_time": "2024-03-11T20:22:35.355841Z",
     "start_time": "2024-03-11T20:22:35.342771600Z"
    }
   },
   "id": "994016d75ad1e6cf",
   "execution_count": 20
  },
  {
   "cell_type": "code",
   "outputs": [],
   "source": [
    "\n"
   ],
   "metadata": {
    "collapsed": false,
    "ExecuteTime": {
     "end_time": "2024-03-11T20:22:35.368231900Z",
     "start_time": "2024-03-11T20:22:35.353770800Z"
    }
   },
   "id": "2e3d9fd0161d076a",
   "execution_count": 20
  },
  {
   "cell_type": "code",
   "outputs": [],
   "source": [
    "\n",
    "    \n",
    "def input_params(obj: IGH_Component):\n",
    "    assert is_cls(obj, IGH_Component), \"The component is not coming in as an IGH_Component\"\n",
    "    obj = convert_cls(obj, IGH_Component)\n",
    "    parameters = []\n",
    "    if obj.Params.Input:\n",
    "        for p in obj.Params.Input:\n",
    "                parameters.append(GHParam_(p))\n",
    "    return parameters\n",
    "def output_params(obj: IGH_Component):\n",
    "    assert is_cls(obj, IGH_Component), \"The component is not coming in as an IGH_Component\"\n",
    "    obj = convert_cls(obj, IGH_Component)\n",
    "    parameters = []\n",
    "    if obj.Params.Output:\n",
    "        for p in obj.Params.Output:\n",
    "            parameters.append(GHParam_(p))\n",
    "\n",
    "    return parameters\n",
    "\n",
    "\n",
    "        "
   ],
   "metadata": {
    "collapsed": false,
    "ExecuteTime": {
     "end_time": "2024-03-11T20:22:35.387431800Z",
     "start_time": "2024-03-11T20:22:35.371232400Z"
    }
   },
   "id": "392bdbe9502c543d",
   "execution_count": 21
  },
  {
   "cell_type": "code",
   "outputs": [],
   "source": [
    "def src_rcpts(obj):\n",
    "    inputs = []\n",
    "    outputs = []\n",
    "    param = is_cls(obj, IGH_Param)\n",
    "    comp = convert_cls(obj, IGH_Component)\n",
    "    # print(f\"{obj.Name} -> ({comp},{param})\")\n",
    "    if comp:\n",
    "        inputs = inputs + input_params(obj)\n",
    "        outputs = outputs + output_params(obj)\n",
    "    return inputs, outputs\n",
    "\n",
    "\n",
    "    \n",
    "       \n",
    "            "
   ],
   "metadata": {
    "collapsed": false,
    "ExecuteTime": {
     "end_time": "2024-03-11T20:22:35.398432400Z",
     "start_time": "2024-03-11T20:22:35.385433400Z"
    }
   },
   "id": "361365dc8361be18",
   "execution_count": 22
  },
  {
   "cell_type": "code",
   "outputs": [
    {
     "name": "stdout",
     "output_type": "stream",
     "text": [
      "Replacement of obsolete components complete.\n",
      "Preprocessing, replacement, and placeholder removal complete.\n"
     ]
    }
   ],
   "source": [
    "file = r\"C:\\Users\\jossi\\Dropbox\\Office_Work\\Jos\\GH_Graph_Learning\\TTD\\bigboy\\01533-Bridge Alignment-Option 1.gh\"\n",
    "doc = GHProcessor.get_ghdoc(file)\n",
    "illegals_dict = illegals_dict = {\n",
    "    \"Bifocals\": \"aced9701-8be9-4860-bc37-7e22622afff4\",\n",
    "    \"Group\": \"c552a431-af5b-46a9-a8a4-0fcbc27ef596\",\n",
    "    \"Sketch\": \"2844fec5-142d-4381-bd5d-4cbcef6d6fed\",\n",
    "    \"Cluster\": \"f31d8d7a-7536-4ac8-9c96-fde6ecda4d0a\",\n",
    "    \"Scribble\": \"7f5c6c55-f846-4a08-9c9a-cfdc285cc6fe\"\n",
    "}\n",
    "doc = preprocess_and_replace(doc, illegals_dict=illegals_dict,overwrite=True)"
   ],
   "metadata": {
    "collapsed": false,
    "ExecuteTime": {
     "end_time": "2024-03-11T20:22:36.087897Z",
     "start_time": "2024-03-11T20:22:35.400432800Z"
    }
   },
   "id": "db5468b75b5f3dd0",
   "execution_count": 23
  },
  {
   "cell_type": "code",
   "outputs": [],
   "source": [
    "file = r\"C:\\Users\\jossi\\Dropbox\\Office_Work\\Jos\\GH_Graph_Learning\\TTD\\missing comps\\missingcomps.gh\"\n",
    "doc = GHProcessor.get_ghdoc(file)\n",
    "for component in doc.Objects:\n",
    "    a = GHComponentTable.get_guid_to_idx(str(component.ComponentGuid))\n",
    "    if a is None:\n",
    "        print(component)"
   ],
   "metadata": {
    "collapsed": false,
    "ExecuteTime": {
     "end_time": "2024-03-11T20:22:36.129375400Z",
     "start_time": "2024-03-11T20:22:36.085607100Z"
    }
   },
   "id": "a5498c529f04aa83",
   "execution_count": 24
  },
  {
   "cell_type": "code",
   "outputs": [],
   "source": [],
   "metadata": {
    "collapsed": false,
    "ExecuteTime": {
     "end_time": "2024-03-11T20:22:36.144882700Z",
     "start_time": "2024-03-11T20:22:36.130376400Z"
    }
   },
   "id": "378ae821436c8d89",
   "execution_count": 24
  },
  {
   "cell_type": "code",
   "outputs": [],
   "source": [],
   "metadata": {
    "collapsed": false,
    "ExecuteTime": {
     "end_time": "2024-03-11T20:22:36.161883900Z",
     "start_time": "2024-03-11T20:22:36.145883500Z"
    }
   },
   "id": "a993218733d91352",
   "execution_count": 24
  }
 ],
 "metadata": {
  "kernelspec": {
   "display_name": "Python 3",
   "language": "python",
   "name": "python3"
  },
  "language_info": {
   "codemirror_mode": {
    "name": "ipython",
    "version": 2
   },
   "file_extension": ".py",
   "mimetype": "text/x-python",
   "name": "python",
   "nbconvert_exporter": "python",
   "pygments_lexer": "ipython2",
   "version": "2.7.6"
  }
 },
 "nbformat": 4,
 "nbformat_minor": 5
}
