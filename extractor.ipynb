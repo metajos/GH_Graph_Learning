{
 "cells": [
  {
   "cell_type": "code",
   "execution_count": 1,
   "id": "initial_id",
   "metadata": {
    "collapsed": true,
    "ExecuteTime": {
     "end_time": "2024-03-10T15:46:57.404464200Z",
     "start_time": "2024-03-10T15:46:51.716728500Z"
    }
   },
   "outputs": [],
   "source": [
    "from environment_manager import *"
   ]
  },
  {
   "cell_type": "markdown",
   "source": [
    "Create the version Environment"
   ],
   "metadata": {
    "collapsed": false
   },
   "id": "82272e5bc9b7c876"
  },
  {
   "cell_type": "code",
   "outputs": [
    {
     "name": "stdout",
     "output_type": "stream",
     "text": [
      "Setting environment variables\n",
      "Copying vanilla components\n",
      "File copied successfully from C:\\Users\\jossi\\Dropbox\\Office_Work\\Jos\\GH_Graph_Learning\\Grasshopper Components\\240307-CoreComponents\\vanilla_components.csv to ExtractionEnvironments\\240308-initial\\00-VanillaComponents\\vanilla_components.csv.\n",
      "Copying components\n",
      "Copying gh files\n"
     ]
    }
   ],
   "source": [
    "\n",
    "name = \"240308-initial\"\n",
    "env = load_create_environment(name)\n"
   ],
   "metadata": {
    "collapsed": false,
    "ExecuteTime": {
     "end_time": "2024-03-10T15:46:57.657133Z",
     "start_time": "2024-03-10T15:46:57.405465300Z"
    }
   },
   "id": "64fd0d33d5f06ba0",
   "execution_count": 2
  },
  {
   "cell_type": "markdown",
   "source": [],
   "metadata": {
    "collapsed": false
   },
   "id": "a9f16a7912cec374"
  },
  {
   "cell_type": "code",
   "outputs": [],
   "source": [],
   "metadata": {
    "collapsed": false,
    "ExecuteTime": {
     "end_time": "2024-03-10T15:46:57.675590300Z",
     "start_time": "2024-03-10T15:46:57.655130100Z"
    }
   },
   "id": "a8ba16d0e907dbd4",
   "execution_count": 2
  },
  {
   "cell_type": "code",
   "outputs": [],
   "source": [
    "# gh_file = env.dirs[\"files\"] /\"210309_Canopy Modelling.gh\"\n",
    "# # gh_file = env.dirs[\"files\"] /'test.gh'\n",
    "# doc = GHProcessor.get_ghdoc(str(gh_file))\n",
    "# t_obj = [\"Panel\"]\n",
    "# illegal = [\"Sketch\",\"Scribble\"]\n",
    "# test_objects = []\n",
    "# canvas = Canvas(gh_file.stem, doc, env)\n",
    "# for object in doc.Objects:\n",
    "#     c = GHComponent(object)\n",
    "#     print(f\"{c.name}, {c.get_connections(canvas)}\")\n"
   ],
   "metadata": {
    "collapsed": false,
    "ExecuteTime": {
     "end_time": "2024-03-10T15:46:57.685943900Z",
     "start_time": "2024-03-10T15:46:57.670591200Z"
    }
   },
   "id": "2f8c36dc8b6ad86f",
   "execution_count": 3
  },
  {
   "cell_type": "code",
   "outputs": [],
   "source": [
    "import Grasshopper.Kernel as ghk"
   ],
   "metadata": {
    "collapsed": false,
    "ExecuteTime": {
     "end_time": "2024-03-10T15:46:57.704226200Z",
     "start_time": "2024-03-10T15:46:57.687441700Z"
    }
   },
   "id": "590e9864d32f886a",
   "execution_count": 4
  },
  {
   "cell_type": "code",
   "outputs": [],
   "source": [
    "from Grasshopper.Kernel import GH_DocumentIO\n",
    "file = r\"C:\\Users\\jossi\\Dropbox\\Office_Work\\Jos\\GH_Graph_Learning\\test\\all_components.gh\"\n",
    "doc = GHProcessor.get_ghdoc(file)\n",
    "\n",
    "comp = GHComponentTable\n",
    "comp.initialise()\n",
    "\n",
    "object_proxies = GHComponentTable.object_proxies\n",
    "\n",
    "\n",
    "i_space = 100.\n",
    "j_space = 200.\n",
    "currenttype = object_proxies[0].category\n",
    "pivot = [0, 0]\n",
    "problems = [] \n",
    "for obj in object_proxies[:1000]:\n",
    "    print(obj.name)\n",
    "    # if obj.name == \"FeatureRequest\":\n",
    "    #     print(obj)\n",
    "    #     continue\n",
    "    # if obj.category != currenttype:\n",
    "    #     currenttype = obj.category\n",
    "    #     pivot[1] += j_space\n",
    "    # try:\n",
    "    #     print(obj.name)\n",
    "    #     dobj = obj.obj_proxy.CreateInstance()\n",
    "    #     dobj.Attributes.Pivot = System.Drawing.PointF(pivot[0], pivot[1])\n",
    "    #     doc.AddObject(dobj, False)\n",
    "    #     pass\n",
    "    # except AttributeError as e:\n",
    "    #     problems.append(obj)\n",
    "    #     print(f\"{e}:{obj.name}\")\n",
    "    #     continue\n",
    "    # except Exception as e:\n",
    "    #     problems.append(obj)\n",
    "    #     print(f\"{e}:{obj.name}\")\n",
    "    # pivot[0] += i_space\n",
    "# ghdio = GH_DocumentIO(doc)\n",
    "# ghdio.Save()\n",
    "# print(problems)"
   ],
   "metadata": {
    "collapsed": false,
    "ExecuteTime": {
     "start_time": "2024-03-10T15:46:57.702380600Z"
    }
   },
   "id": "4bc99b3e33625018",
   "execution_count": null
  },
  {
   "cell_type": "code",
   "outputs": [],
   "source": [],
   "metadata": {
    "collapsed": false
   },
   "id": "11534961f7f18b5f",
   "execution_count": null
  },
  {
   "cell_type": "code",
   "outputs": [],
   "source": [],
   "metadata": {
    "collapsed": false
   },
   "id": "468c5237abd3be75",
   "execution_count": null
  },
  {
   "cell_type": "code",
   "outputs": [],
   "source": [],
   "metadata": {
    "collapsed": false
   },
   "id": "63c66fe516cf8d74",
   "execution_count": null
  },
  {
   "cell_type": "code",
   "outputs": [],
   "source": [],
   "metadata": {
    "collapsed": false
   },
   "id": "cde5207408b2338d"
  }
 ],
 "metadata": {
  "kernelspec": {
   "display_name": "Python 3",
   "language": "python",
   "name": "python3"
  },
  "language_info": {
   "codemirror_mode": {
    "name": "ipython",
    "version": 2
   },
   "file_extension": ".py",
   "mimetype": "text/x-python",
   "name": "python",
   "nbconvert_exporter": "python",
   "pygments_lexer": "ipython2",
   "version": "2.7.6"
  }
 },
 "nbformat": 4,
 "nbformat_minor": 5
}
