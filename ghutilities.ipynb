{
 "cells": [
  {
   "cell_type": "code",
   "execution_count": 69,
   "id": "initial_id",
   "metadata": {
    "collapsed": true,
    "ExecuteTime": {
     "end_time": "2024-03-09T12:11:35.625833700Z",
     "start_time": "2024-03-09T12:11:35.614650200Z"
    }
   },
   "outputs": [],
   "source": [
    "from environment_manager import *\n",
    "name = \"240308-initial\"\n",
    "env = load_create_environment(name)\n"
   ]
  },
  {
   "cell_type": "code",
   "outputs": [
    {
     "name": "stderr",
     "output_type": "stream",
     "text": [
      "ic| 'called initialise components'\n",
      "WARNING:root:COMPONENT Group,93c5f  failed initial assignment of parameters: object does not implement IGH_Param\n"
     ]
    },
    {
     "name": "stdout",
     "output_type": "stream",
     "text": [
      "with_traceback() takes exactly one argument (0 given)\n"
     ]
    },
    {
     "name": "stderr",
     "output_type": "stream",
     "text": [
      "Traceback (most recent call last):\n",
      "  File \"C:\\Users\\jossi\\Dropbox\\Office_Work\\Jos\\GH_Graph_Learning\\environment_manager.py\", line 543, in __init__\n",
      "    self.obj = IGH_Param(obj)\n",
      "TypeError: object does not implement IGH_Param\n",
      "\n",
      "During handling of the above exception, another exception occurred:\n",
      "\n",
      "Traceback (most recent call last):\n",
      "  File \"C:\\Users\\jossi\\Dropbox\\Office_Work\\Jos\\GH_Graph_Learning\\environment_manager.py\", line 554, in __init__\n",
      "    self.obj = IGH_Param(obj)\n",
      "TypeError: object does not implement IGH_Param\n"
     ]
    },
    {
     "ename": "TypeError",
     "evalue": "'NoneType' object is not iterable",
     "output_type": "error",
     "traceback": [
      "\u001B[1;31m---------------------------------------------------------------------------\u001B[0m",
      "\u001B[1;31mTypeError\u001B[0m                                 Traceback (most recent call last)",
      "Cell \u001B[1;32mIn[74], line 4\u001B[0m\n\u001B[0;32m      2\u001B[0m name \u001B[38;5;241m=\u001B[39m path\u001B[38;5;241m.\u001B[39mname\u001B[38;5;241m.\u001B[39msplit(\u001B[38;5;124m\"\u001B[39m\u001B[38;5;124m.\u001B[39m\u001B[38;5;124m\"\u001B[39m)[\u001B[38;5;241m0\u001B[39m]\n\u001B[0;32m      3\u001B[0m doc \u001B[38;5;241m=\u001B[39m GHProcessor\u001B[38;5;241m.\u001B[39mget_ghdoc(\u001B[38;5;28mstr\u001B[39m(path))\n\u001B[1;32m----> 4\u001B[0m ghp \u001B[38;5;241m=\u001B[39m \u001B[43mGHProcessor\u001B[49m\u001B[43m(\u001B[49m\u001B[38;5;28;43mstr\u001B[39;49m\u001B[43m(\u001B[49m\u001B[43mpath\u001B[49m\u001B[43m)\u001B[49m\u001B[43m,\u001B[49m\u001B[43menv\u001B[49m\u001B[43m)\u001B[49m\n",
      "File \u001B[1;32m~\\Dropbox\\Office_Work\\Jos\\GH_Graph_Learning\\environment_manager.py:813\u001B[0m, in \u001B[0;36mGHProcessor.__init__\u001B[1;34m(self, filepath_filename, environment)\u001B[0m\n\u001B[0;32m    811\u001B[0m \u001B[38;5;28;01mdef\u001B[39;00m \u001B[38;5;21m__init__\u001B[39m(\u001B[38;5;28mself\u001B[39m, filepath_filename, environment):\n\u001B[0;32m    812\u001B[0m     \u001B[38;5;28mself\u001B[39m\u001B[38;5;241m.\u001B[39mdoc \u001B[38;5;241m=\u001B[39m \u001B[38;5;28mself\u001B[39m\u001B[38;5;241m.\u001B[39mget_ghdoc(filepath_filename)\n\u001B[1;32m--> 813\u001B[0m     \u001B[38;5;28mself\u001B[39m\u001B[38;5;241m.\u001B[39mcanvas \u001B[38;5;241m=\u001B[39m \u001B[43mCanvas\u001B[49m\u001B[43m(\u001B[49m\u001B[43mfilepath_filename\u001B[49m\u001B[43m,\u001B[49m\u001B[43m \u001B[49m\u001B[38;5;28;43mself\u001B[39;49m\u001B[38;5;241;43m.\u001B[39;49m\u001B[43mdoc\u001B[49m\u001B[43m,\u001B[49m\u001B[43m \u001B[49m\u001B[43menvironment\u001B[49m\u001B[43m)\u001B[49m\n\u001B[0;32m    814\u001B[0m     \u001B[38;5;28mself\u001B[39m\u001B[38;5;241m.\u001B[39mGHgraph \u001B[38;5;241m=\u001B[39m  GHGraph(\u001B[38;5;28mself\u001B[39m\u001B[38;5;241m.\u001B[39mcanvas)\n\u001B[0;32m    815\u001B[0m     \u001B[38;5;28mself\u001B[39m\u001B[38;5;241m.\u001B[39mfilename \u001B[38;5;241m=\u001B[39m Path(filepath_filename)\u001B[38;5;241m.\u001B[39mname\n",
      "File \u001B[1;32m~\\Dropbox\\Office_Work\\Jos\\GH_Graph_Learning\\environment_manager.py:622\u001B[0m, in \u001B[0;36mCanvas.__init__\u001B[1;34m(self, name, doc, environment, n)\u001B[0m\n\u001B[0;32m    620\u001B[0m \u001B[38;5;28mself\u001B[39m\u001B[38;5;241m.\u001B[39mcomponents \u001B[38;5;241m=\u001B[39m []  \u001B[38;5;66;03m# Initialize as empty\u001B[39;00m\n\u001B[0;32m    621\u001B[0m \u001B[38;5;28mself\u001B[39m\u001B[38;5;241m.\u001B[39mguid_to_component \u001B[38;5;241m=\u001B[39m {}  \u001B[38;5;66;03m# Initialize as empty\u001B[39;00m\n\u001B[1;32m--> 622\u001B[0m \u001B[38;5;28;43mself\u001B[39;49m\u001B[38;5;241;43m.\u001B[39;49m\u001B[43minitialize_components\u001B[49m\u001B[43m(\u001B[49m\u001B[43mn\u001B[49m\u001B[43m)\u001B[49m\n\u001B[0;32m    623\u001B[0m \u001B[38;5;28mself\u001B[39m\u001B[38;5;241m.\u001B[39mgraph_id_to_component \u001B[38;5;241m=\u001B[39m \u001B[38;5;28mself\u001B[39m\u001B[38;5;241m.\u001B[39mprocess_mappings()\n\u001B[0;32m    624\u001B[0m \u001B[38;5;28mself\u001B[39m\u001B[38;5;241m.\u001B[39menv \u001B[38;5;241m=\u001B[39m environment\n",
      "File \u001B[1;32m~\\Dropbox\\Office_Work\\Jos\\GH_Graph_Learning\\environment_manager.py:632\u001B[0m, in \u001B[0;36mCanvas.initialize_components\u001B[1;34m(self, n)\u001B[0m\n\u001B[0;32m    630\u001B[0m     \u001B[38;5;28mself\u001B[39m\u001B[38;5;241m.\u001B[39mguid_to_component \u001B[38;5;241m=\u001B[39m {c\u001B[38;5;241m.\u001B[39mid: c \u001B[38;5;28;01mfor\u001B[39;00m c \u001B[38;5;129;01min\u001B[39;00m \u001B[38;5;28mself\u001B[39m\u001B[38;5;241m.\u001B[39mcomponents}\n\u001B[0;32m    631\u001B[0m \u001B[38;5;28;01melse\u001B[39;00m:\n\u001B[1;32m--> 632\u001B[0m     \u001B[38;5;28mself\u001B[39m\u001B[38;5;241m.\u001B[39mcomponents \u001B[38;5;241m=\u001B[39m [GHComponent(o) \u001B[38;5;28;01mfor\u001B[39;00m o \u001B[38;5;129;01min\u001B[39;00m \u001B[38;5;28mlist\u001B[39m(\u001B[38;5;28mself\u001B[39m\u001B[38;5;241m.\u001B[39mdoc\u001B[38;5;241m.\u001B[39mObjects)]\n\u001B[0;32m    633\u001B[0m     \u001B[38;5;28mself\u001B[39m\u001B[38;5;241m.\u001B[39mguid_to_component \u001B[38;5;241m=\u001B[39m {c\u001B[38;5;241m.\u001B[39mid: c \u001B[38;5;28;01mfor\u001B[39;00m c \u001B[38;5;129;01min\u001B[39;00m \u001B[38;5;28mself\u001B[39m\u001B[38;5;241m.\u001B[39mcomponents}\n",
      "File \u001B[1;32m~\\Dropbox\\Office_Work\\Jos\\GH_Graph_Learning\\environment_manager.py:632\u001B[0m, in \u001B[0;36m<listcomp>\u001B[1;34m(.0)\u001B[0m\n\u001B[0;32m    630\u001B[0m     \u001B[38;5;28mself\u001B[39m\u001B[38;5;241m.\u001B[39mguid_to_component \u001B[38;5;241m=\u001B[39m {c\u001B[38;5;241m.\u001B[39mid: c \u001B[38;5;28;01mfor\u001B[39;00m c \u001B[38;5;129;01min\u001B[39;00m \u001B[38;5;28mself\u001B[39m\u001B[38;5;241m.\u001B[39mcomponents}\n\u001B[0;32m    631\u001B[0m \u001B[38;5;28;01melse\u001B[39;00m:\n\u001B[1;32m--> 632\u001B[0m     \u001B[38;5;28mself\u001B[39m\u001B[38;5;241m.\u001B[39mcomponents \u001B[38;5;241m=\u001B[39m [\u001B[43mGHComponent\u001B[49m\u001B[43m(\u001B[49m\u001B[43mo\u001B[49m\u001B[43m)\u001B[49m \u001B[38;5;28;01mfor\u001B[39;00m o \u001B[38;5;129;01min\u001B[39;00m \u001B[38;5;28mlist\u001B[39m(\u001B[38;5;28mself\u001B[39m\u001B[38;5;241m.\u001B[39mdoc\u001B[38;5;241m.\u001B[39mObjects)]\n\u001B[0;32m    633\u001B[0m     \u001B[38;5;28mself\u001B[39m\u001B[38;5;241m.\u001B[39mguid_to_component \u001B[38;5;241m=\u001B[39m {c\u001B[38;5;241m.\u001B[39mid: c \u001B[38;5;28;01mfor\u001B[39;00m c \u001B[38;5;129;01min\u001B[39;00m \u001B[38;5;28mself\u001B[39m\u001B[38;5;241m.\u001B[39mcomponents}\n",
      "File \u001B[1;32m~\\Dropbox\\Office_Work\\Jos\\GH_Graph_Learning\\environment_manager.py:565\u001B[0m, in \u001B[0;36mGHComponent.__init__\u001B[1;34m(self, obj)\u001B[0m\n\u001B[0;32m    563\u001B[0m \u001B[38;5;28;01mexcept\u001B[39;00m \u001B[38;5;167;01mTypeError\u001B[39;00m \u001B[38;5;28;01mas\u001B[39;00m e:\n\u001B[0;32m    564\u001B[0m     \u001B[38;5;28mprint\u001B[39m(e)\n\u001B[1;32m--> 565\u001B[0m \u001B[38;5;28mself\u001B[39m\u001B[38;5;241m.\u001B[39miparams_dict \u001B[38;5;241m=\u001B[39m {k\u001B[38;5;241m.\u001B[39mname: i \u001B[38;5;28;01mfor\u001B[39;00m i, k \u001B[38;5;129;01min\u001B[39;00m \u001B[38;5;28;43menumerate\u001B[39;49m\u001B[43m(\u001B[49m\u001B[38;5;28;43mself\u001B[39;49m\u001B[38;5;241;43m.\u001B[39;49m\u001B[43miparams\u001B[49m\u001B[43m)\u001B[49m}\n\u001B[0;32m    566\u001B[0m \u001B[38;5;28mself\u001B[39m\u001B[38;5;241m.\u001B[39moparams_dict \u001B[38;5;241m=\u001B[39m {k\u001B[38;5;241m.\u001B[39mname: i \u001B[38;5;28;01mfor\u001B[39;00m i, k \u001B[38;5;129;01min\u001B[39;00m \u001B[38;5;28menumerate\u001B[39m(\u001B[38;5;28mself\u001B[39m\u001B[38;5;241m.\u001B[39moparams)}\n",
      "\u001B[1;31mTypeError\u001B[0m: 'NoneType' object is not iterable"
     ]
    }
   ],
   "source": [
    "path = Path(r\"C:\\Users\\jossi\\Dropbox\\Office_Work\\Jos\\GH_Graph_Learning\\ExtractionEnvironments\\240308-initial\\03-GH_Files\\0_Periodic_surfaces.gh\")\n",
    "name = path.name.split(\".\")[0]\n",
    "doc = GHProcessor.get_ghdoc(str(path))\n",
    "ghp = GHProcessor(str(path),env)\n"
   ],
   "metadata": {
    "collapsed": false,
    "ExecuteTime": {
     "end_time": "2024-03-09T12:12:23.004381700Z",
     "start_time": "2024-03-09T12:12:22.316618600Z"
    }
   },
   "id": "1a4bae3a237fbba6",
   "execution_count": 74
  },
  {
   "cell_type": "code",
   "outputs": [],
   "source": [
    "rod = Grasshopper.Kernel.GH_RelevantObjectData\n",
    "cluster = None\n",
    "illegals = [\"Group\", \"Scribble\", \"Sketch\", \"Cluster\"] \n",
    "def open_file(doc):\n",
    "    for node in doc.Objects:\n",
    "        if node.Name in illegals:\n",
    "            continue\n",
    "        GHComponent(node)\n"
   ],
   "metadata": {
    "collapsed": false,
    "ExecuteTime": {
     "end_time": "2024-03-09T12:27:32.526191100Z",
     "start_time": "2024-03-09T12:27:32.501192100Z"
    }
   },
   "id": "92225a3b1f5ba76b",
   "execution_count": 81
  },
  {
   "cell_type": "code",
   "outputs": [],
   "source": [
    "open_file(doc)"
   ],
   "metadata": {
    "collapsed": false,
    "ExecuteTime": {
     "end_time": "2024-03-09T12:27:33.599016900Z",
     "start_time": "2024-03-09T12:27:33.594015500Z"
    }
   },
   "id": "b170e8b69a031c2",
   "execution_count": 82
  },
  {
   "cell_type": "code",
   "outputs": [],
   "source": [
    "\n",
    "cluster"
   ],
   "metadata": {
    "collapsed": false,
    "ExecuteTime": {
     "end_time": "2024-03-09T12:08:50.761195800Z",
     "start_time": "2024-03-09T12:08:50.747192800Z"
    }
   },
   "id": "7fa26d628e98c120",
   "execution_count": 64
  },
  {
   "cell_type": "code",
   "outputs": [],
   "source": [],
   "metadata": {
    "collapsed": false,
    "ExecuteTime": {
     "end_time": "2024-03-09T10:06:43.071117400Z",
     "start_time": "2024-03-09T10:06:43.052610200Z"
    }
   },
   "id": "7e0d59cbe89e8890",
   "execution_count": 2
  },
  {
   "cell_type": "code",
   "outputs": [],
   "source": [],
   "metadata": {
    "collapsed": false,
    "ExecuteTime": {
     "end_time": "2024-03-09T10:06:43.085118Z",
     "start_time": "2024-03-09T10:06:43.069118400Z"
    }
   },
   "id": "ce31125c415ab8fa",
   "execution_count": 2
  },
  {
   "cell_type": "code",
   "outputs": [],
   "source": [],
   "metadata": {
    "collapsed": false,
    "ExecuteTime": {
     "end_time": "2024-03-09T10:06:43.108574700Z",
     "start_time": "2024-03-09T10:06:43.086118400Z"
    }
   },
   "id": "51f57954e67ce707",
   "execution_count": 2
  },
  {
   "cell_type": "code",
   "outputs": [],
   "source": [],
   "metadata": {
    "collapsed": false,
    "ExecuteTime": {
     "end_time": "2024-03-09T10:06:43.118574300Z",
     "start_time": "2024-03-09T10:06:43.101573800Z"
    }
   },
   "id": "ed73317a9b7a9bb5",
   "execution_count": 2
  },
  {
   "cell_type": "code",
   "outputs": [],
   "source": [],
   "metadata": {
    "collapsed": false,
    "ExecuteTime": {
     "end_time": "2024-03-09T10:06:43.133574400Z",
     "start_time": "2024-03-09T10:06:43.118574300Z"
    }
   },
   "id": "a0740d1a07fd3c45",
   "execution_count": 2
  }
 ],
 "metadata": {
  "kernelspec": {
   "display_name": "Python 3",
   "language": "python",
   "name": "python3"
  },
  "language_info": {
   "codemirror_mode": {
    "name": "ipython",
    "version": 2
   },
   "file_extension": ".py",
   "mimetype": "text/x-python",
   "name": "python",
   "nbconvert_exporter": "python",
   "pygments_lexer": "ipython2",
   "version": "2.7.6"
  }
 },
 "nbformat": 4,
 "nbformat_minor": 5
}
