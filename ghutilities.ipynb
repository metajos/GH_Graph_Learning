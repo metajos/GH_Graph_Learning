{
 "cells": [
  {
   "cell_type": "code",
   "execution_count": 1,
   "id": "initial_id",
   "metadata": {
    "collapsed": true,
    "ExecuteTime": {
     "end_time": "2024-03-09T10:06:43.000604300Z",
     "start_time": "2024-03-09T10:06:42.983604400Z"
    }
   },
   "outputs": [],
   "source": [
    "import logging"
   ]
  },
  {
   "cell_type": "code",
   "outputs": [],
   "source": [],
   "metadata": {
    "collapsed": false,
    "ExecuteTime": {
     "end_time": "2024-03-09T10:06:43.006604900Z",
     "start_time": "2024-03-09T10:06:42.990605500Z"
    }
   },
   "id": "1a4bae3a237fbba6",
   "execution_count": 1
  },
  {
   "cell_type": "code",
   "outputs": [],
   "source": [],
   "metadata": {
    "collapsed": false,
    "ExecuteTime": {
     "end_time": "2024-03-09T10:06:43.032605500Z",
     "start_time": "2024-03-09T10:06:43.006604900Z"
    }
   },
   "id": "92225a3b1f5ba76b",
   "execution_count": 2
  },
  {
   "cell_type": "code",
   "outputs": [],
   "source": [],
   "metadata": {
    "collapsed": false,
    "ExecuteTime": {
     "end_time": "2024-03-09T10:06:43.037604700Z",
     "start_time": "2024-03-09T10:06:43.021604Z"
    }
   },
   "id": "b170e8b69a031c2",
   "execution_count": 2
  },
  {
   "cell_type": "code",
   "outputs": [],
   "source": [],
   "metadata": {
    "collapsed": false,
    "ExecuteTime": {
     "end_time": "2024-03-09T10:06:43.055118600Z",
     "start_time": "2024-03-09T10:06:43.037604700Z"
    }
   },
   "id": "7fa26d628e98c120",
   "execution_count": 2
  },
  {
   "cell_type": "code",
   "outputs": [],
   "source": [],
   "metadata": {
    "collapsed": false,
    "ExecuteTime": {
     "end_time": "2024-03-09T10:06:43.071117400Z",
     "start_time": "2024-03-09T10:06:43.052610200Z"
    }
   },
   "id": "7e0d59cbe89e8890",
   "execution_count": 2
  },
  {
   "cell_type": "code",
   "outputs": [],
   "source": [],
   "metadata": {
    "collapsed": false,
    "ExecuteTime": {
     "end_time": "2024-03-09T10:06:43.085118Z",
     "start_time": "2024-03-09T10:06:43.069118400Z"
    }
   },
   "id": "ce31125c415ab8fa",
   "execution_count": 2
  },
  {
   "cell_type": "code",
   "outputs": [],
   "source": [],
   "metadata": {
    "collapsed": false,
    "ExecuteTime": {
     "end_time": "2024-03-09T10:06:43.108574700Z",
     "start_time": "2024-03-09T10:06:43.086118400Z"
    }
   },
   "id": "51f57954e67ce707",
   "execution_count": 2
  },
  {
   "cell_type": "code",
   "outputs": [],
   "source": [],
   "metadata": {
    "collapsed": false,
    "ExecuteTime": {
     "end_time": "2024-03-09T10:06:43.118574300Z",
     "start_time": "2024-03-09T10:06:43.101573800Z"
    }
   },
   "id": "ed73317a9b7a9bb5",
   "execution_count": 2
  },
  {
   "cell_type": "code",
   "outputs": [],
   "source": [],
   "metadata": {
    "collapsed": false,
    "ExecuteTime": {
     "end_time": "2024-03-09T10:06:43.133574400Z",
     "start_time": "2024-03-09T10:06:43.118574300Z"
    }
   },
   "id": "a0740d1a07fd3c45",
   "execution_count": 2
  }
 ],
 "metadata": {
  "kernelspec": {
   "display_name": "Python 3",
   "language": "python",
   "name": "python3"
  },
  "language_info": {
   "codemirror_mode": {
    "name": "ipython",
    "version": 2
   },
   "file_extension": ".py",
   "mimetype": "text/x-python",
   "name": "python",
   "nbconvert_exporter": "python",
   "pygments_lexer": "ipython2",
   "version": "2.7.6"
  }
 },
 "nbformat": 4,
 "nbformat_minor": 5
}
