{
 "cells": [
  {
   "cell_type": "code",
   "outputs": [],
   "source": [
    "import os\n",
    "import shutil\n",
    "\n",
    "def copy_gh_files(source_folder, destination_folder):\n",
    "    # Walk through all subfolders in the source folder\n",
    "    for root, dirs, files in os.walk(source_folder):\n",
    "        for file in files:\n",
    "            # Check if the file has a .gh extension\n",
    "            if file.endswith(\".gh\"):\n",
    "                # Construct the full file paths\n",
    "                source_file = os.path.join(root, file)\n",
    "                destination_file = os.path.join(destination_folder, file)\n",
    "                \n",
    "                try:\n",
    "                    # Copy the file from the source to the destination\n",
    "                    shutil.copy2(source_file, destination_file)\n",
    "                    print(f\"Copied: {source_file} -> {destination_file}\")\n",
    "                except IOError as e:\n",
    "                    print(f\"Error copying file: {source_file}. {str(e)}\")\n",
    "                except Exception as e:\n",
    "                    print(f\"Unexpected error occurred while copying file: {source_file}. {str(e)}\")\n",
    "src = r\"C:\\Users\\jossi\\Dropbox\\Office_Work\\Jos\\GH_Graph_Learning\\Junichira GrasshopperHowtos-master\"\n",
    "dst = r\"C:\\Users\\jossi\\Dropbox\\Office_Work\\Jos\\GH_Graph_Learning\\ExtractionEnvironments\\240318-initial parsing\\03-GH_Files\\03a-Raw\"\n"
   ],
   "metadata": {
    "collapsed": false,
    "ExecuteTime": {
     "end_time": "2024-03-20T11:46:33.005245700Z",
     "start_time": "2024-03-20T11:46:32.991242200Z"
    }
   },
   "id": "1a4bae3a237fbba6",
   "execution_count": 2
  },
  {
   "cell_type": "code",
   "outputs": [],
   "source": [
    "import numpy as np\n",
    "import networkx as nx\n",
    "def one_hot_on_attribute(G, attribute:str):\n",
    "    \"\"\"\n",
    "    Create a one hot encoding where the mapping dictionary determines the column index of the one hot encoding. \n",
    "    The rows represent each node in the graph. The attribute is the node information that we want to categorise.\n",
    "    \n",
    "    Parameters:\n",
    "    G (nx.Graph or nx.DiGraph): The graph to be processed.\n",
    "    attribute (str): The attribute of the node to be categorised.\n",
    "    \n",
    "    Returns:\n",
    "    np.array: A one hot encoding of the node attributes.\n",
    "    \n",
    "    Example:\n",
    "     G = nx.Graph()\n",
    "     blue, orange, green = \"#1f77b4\", \"#ff7f0e\",\"#2ca02c\"\n",
    "     G.add_nodes_from([(1, {\"color\": blue}),\n",
    "                       (2, {\"color\": orange}),\n",
    "                       (3, {\"color\": blue}),\n",
    "                       (4, {\"color\": green})])\n",
    "     G.add_edges_from([(1, 2),(2, 3),(1, 3),(3, 4)])\n",
    "     one_hot_encoding = one_hot_on_attribute(G, 'color')\n",
    "     print(one_hot_encoding)\n",
    "    [[1. 0. 0.]\n",
    "     [0. 1. 0.]\n",
    "     [1. 0. 0.]\n",
    "     [0. 0. 1.]]\n",
    "    \"\"\"\n",
    "    set_attributes = {v:i for i, v in enumerate(set(nx.get_node_attributes(G, 'color').values()))}\n",
    "    one_hot_idx = np.array([set_attributes[v] for v in nx.get_node_attributes(G, attribute).values()])\n",
    "    one_hot_encoding = np.zeros((one_hot_idx.size, len(set_attributes)))\n",
    "    one_hot_encoding[np.arange(one_hot_idx.size), one_hot_idx] = 1\n",
    "    return one_hot_encoding"
   ],
   "metadata": {
    "collapsed": false,
    "ExecuteTime": {
     "end_time": "2024-03-21T16:39:20.594781600Z",
     "start_time": "2024-03-21T16:39:20.504720100Z"
    }
   },
   "id": "4a5647d52d02c545",
   "execution_count": 1
  }
 ],
 "metadata": {
  "kernelspec": {
   "display_name": "Python 3",
   "language": "python",
   "name": "python3"
  },
  "language_info": {
   "codemirror_mode": {
    "name": "ipython",
    "version": 2
   },
   "file_extension": ".py",
   "mimetype": "text/x-python",
   "name": "python",
   "nbconvert_exporter": "python",
   "pygments_lexer": "ipython2",
   "version": "2.7.6"
  }
 },
 "nbformat": 4,
 "nbformat_minor": 5
}
