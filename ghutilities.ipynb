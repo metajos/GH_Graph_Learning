{
 "cells": [
  {
   "cell_type": "code",
   "execution_count": 1,
   "id": "initial_id",
   "metadata": {
    "collapsed": true,
    "ExecuteTime": {
     "end_time": "2024-02-29T10:34:54.602320400Z",
     "start_time": "2024-02-29T10:34:54.595158600Z"
    }
   },
   "outputs": [],
   "source": [
    "def is_igh(obj, igh):\n",
    "    \"\"\"Check to see if an object implements a given interface, for example IGH_Component or IGH_Params\n",
    "        ::return True if the object implements a given interface\n",
    "    \"\"\"\n",
    "    try: \n",
    "        if igh(obj):\n",
    "            return True\n",
    "    except:\n",
    "        return False\n",
    "    \n",
    "def split_gh_graph_numbering(string):\n",
    "    return [int(x) for x in string.split(\"-\")]"
   ]
  }
 ],
 "metadata": {
  "kernelspec": {
   "display_name": "Python 3",
   "language": "python",
   "name": "python3"
  },
  "language_info": {
   "codemirror_mode": {
    "name": "ipython",
    "version": 2
   },
   "file_extension": ".py",
   "mimetype": "text/x-python",
   "name": "python",
   "nbconvert_exporter": "python",
   "pygments_lexer": "ipython2",
   "version": "2.7.6"
  }
 },
 "nbformat": 4,
 "nbformat_minor": 5
}
