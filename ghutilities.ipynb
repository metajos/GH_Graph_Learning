{
 "cells": [
  {
   "cell_type": "code",
   "execution_count": 1,
   "id": "initial_id",
   "metadata": {
    "collapsed": true,
    "ExecuteTime": {
     "end_time": "2024-03-01T14:28:12.359159200Z",
     "start_time": "2024-03-01T14:28:12.178489400Z"
    }
   },
   "outputs": [],
   "source": [
    "import pandas as pd\n",
    "import os \n",
    "\n",
    "def is_igh(obj, igh):\n",
    "    \"\"\"Check to see if an object implements a given interface, for example IGH_Component or IGH_Params\n",
    "        ::return True if the object implements a given interface\n",
    "    \"\"\"\n",
    "    try: \n",
    "        if igh(obj):\n",
    "            return True\n",
    "    except:\n",
    "        return False\n",
    "    \n",
    "def split_gh_graph_numbering(string):\n",
    "    return [int(x) for x in string.split(\"-\")]\n",
    "\n"
   ]
  },
  {
   "cell_type": "code",
   "outputs": [
    {
     "data": {
      "text/plain": "      category                             name  \\\n0        Curve                              Arc   \n1        Curve                          Arc 3Pt   \n2        Curve                          Arc SED   \n3        Curve                      Bezier Span   \n4        Curve                            BiArc   \n...        ...                              ...   \n1729  eleFront  Update All Reference Components   \n1730  eleFront                     Update Group   \n1731  eleFront                   eleFront Block   \n1732  eleFront        eleFront Data Description   \n1733  eleFront                    eleFrontLayer   \n\n                                      guid           nickname  \\\n0     bb59bffc-f54c-4682-9778-f6c3fe74fce3                Arc   \n1     9fa1b081-b1c7-4a12-a163-0aa8da9ff6c4                Arc   \n2     9d2583dd-6cf5-497c-8c40-c9a290598396                Arc   \n3     30ce59ce-22a1-49ee-9e21-e6d16b3684a8             BzSpan   \n4     75f4b0fd-9721-47b1-99e7-9c098b342e67              BiArc   \n...                                    ...                ...   \n1729  63eaf9fd-7214-475a-8187-20a458a69138  Update Refs - All   \n1730  7f88e70f-e456-40ee-a795-78fbaceb82ce       Update Group   \n1731  877a63a0-03b5-4c4c-90f9-65f1b7f86f65              Block   \n1732  5bd835d3-a4c1-4922-839b-3a9ebeb78b67        Description   \n1733  3fb43af7-d691-4a49-9fdd-502abb1f13f5              Layer   \n\n                                            description  \\\n0     Create an arc defined by base plane, radius an...   \n1                   Create an arc through three points.   \n2     Create an arc defined by start point, end poin...   \n3     Construct a bezier span from endpoints and tan...   \n4      Create a bi-arc based on endpoints and tangents.   \n...                                                 ...   \n1729  Update all eleFront Reference components with ...   \n1730  Activate all EleFront components that share th...   \n1731                            Contains eleFront Block   \n1732  Use this component to guide your data streams ...   \n1733                                     Contains Layer   \n\n                                                   type           library  \n0                         CurveComponents.Component_Arc  Curve Components  \n1                      CurveComponents.Component_Arc3Pt  Curve Components  \n2                      CurveComponents.Component_ArcSED  Curve Components  \n3                  CurveComponents.Component_BezierSpan  Curve Components  \n4                       CurveComponents.Component_BiArc  Curve Components  \n...                                                 ...               ...  \n1729  EleFront.Components.Reference.Param_UpdateAllR...          eleFront  \n1730  EleFront.Components.Reference.Param_UpdateGrou...          eleFront  \n1731             EleFront.Components.Params.Param_Block          eleFront  \n1732          EleFront.Components.Params.Param_DataDesc          eleFront  \n1733             EleFront.Components.Params.Param_Layer          eleFront  \n\n[1734 rows x 7 columns]",
      "text/html": "<div>\n<style scoped>\n    .dataframe tbody tr th:only-of-type {\n        vertical-align: middle;\n    }\n\n    .dataframe tbody tr th {\n        vertical-align: top;\n    }\n\n    .dataframe thead th {\n        text-align: right;\n    }\n</style>\n<table border=\"1\" class=\"dataframe\">\n  <thead>\n    <tr style=\"text-align: right;\">\n      <th></th>\n      <th>category</th>\n      <th>name</th>\n      <th>guid</th>\n      <th>nickname</th>\n      <th>description</th>\n      <th>type</th>\n      <th>library</th>\n    </tr>\n  </thead>\n  <tbody>\n    <tr>\n      <th>0</th>\n      <td>Curve</td>\n      <td>Arc</td>\n      <td>bb59bffc-f54c-4682-9778-f6c3fe74fce3</td>\n      <td>Arc</td>\n      <td>Create an arc defined by base plane, radius an...</td>\n      <td>CurveComponents.Component_Arc</td>\n      <td>Curve Components</td>\n    </tr>\n    <tr>\n      <th>1</th>\n      <td>Curve</td>\n      <td>Arc 3Pt</td>\n      <td>9fa1b081-b1c7-4a12-a163-0aa8da9ff6c4</td>\n      <td>Arc</td>\n      <td>Create an arc through three points.</td>\n      <td>CurveComponents.Component_Arc3Pt</td>\n      <td>Curve Components</td>\n    </tr>\n    <tr>\n      <th>2</th>\n      <td>Curve</td>\n      <td>Arc SED</td>\n      <td>9d2583dd-6cf5-497c-8c40-c9a290598396</td>\n      <td>Arc</td>\n      <td>Create an arc defined by start point, end poin...</td>\n      <td>CurveComponents.Component_ArcSED</td>\n      <td>Curve Components</td>\n    </tr>\n    <tr>\n      <th>3</th>\n      <td>Curve</td>\n      <td>Bezier Span</td>\n      <td>30ce59ce-22a1-49ee-9e21-e6d16b3684a8</td>\n      <td>BzSpan</td>\n      <td>Construct a bezier span from endpoints and tan...</td>\n      <td>CurveComponents.Component_BezierSpan</td>\n      <td>Curve Components</td>\n    </tr>\n    <tr>\n      <th>4</th>\n      <td>Curve</td>\n      <td>BiArc</td>\n      <td>75f4b0fd-9721-47b1-99e7-9c098b342e67</td>\n      <td>BiArc</td>\n      <td>Create a bi-arc based on endpoints and tangents.</td>\n      <td>CurveComponents.Component_BiArc</td>\n      <td>Curve Components</td>\n    </tr>\n    <tr>\n      <th>...</th>\n      <td>...</td>\n      <td>...</td>\n      <td>...</td>\n      <td>...</td>\n      <td>...</td>\n      <td>...</td>\n      <td>...</td>\n    </tr>\n    <tr>\n      <th>1729</th>\n      <td>eleFront</td>\n      <td>Update All Reference Components</td>\n      <td>63eaf9fd-7214-475a-8187-20a458a69138</td>\n      <td>Update Refs - All</td>\n      <td>Update all eleFront Reference components with ...</td>\n      <td>EleFront.Components.Reference.Param_UpdateAllR...</td>\n      <td>eleFront</td>\n    </tr>\n    <tr>\n      <th>1730</th>\n      <td>eleFront</td>\n      <td>Update Group</td>\n      <td>7f88e70f-e456-40ee-a795-78fbaceb82ce</td>\n      <td>Update Group</td>\n      <td>Activate all EleFront components that share th...</td>\n      <td>EleFront.Components.Reference.Param_UpdateGrou...</td>\n      <td>eleFront</td>\n    </tr>\n    <tr>\n      <th>1731</th>\n      <td>eleFront</td>\n      <td>eleFront Block</td>\n      <td>877a63a0-03b5-4c4c-90f9-65f1b7f86f65</td>\n      <td>Block</td>\n      <td>Contains eleFront Block</td>\n      <td>EleFront.Components.Params.Param_Block</td>\n      <td>eleFront</td>\n    </tr>\n    <tr>\n      <th>1732</th>\n      <td>eleFront</td>\n      <td>eleFront Data Description</td>\n      <td>5bd835d3-a4c1-4922-839b-3a9ebeb78b67</td>\n      <td>Description</td>\n      <td>Use this component to guide your data streams ...</td>\n      <td>EleFront.Components.Params.Param_DataDesc</td>\n      <td>eleFront</td>\n    </tr>\n    <tr>\n      <th>1733</th>\n      <td>eleFront</td>\n      <td>eleFrontLayer</td>\n      <td>3fb43af7-d691-4a49-9fdd-502abb1f13f5</td>\n      <td>Layer</td>\n      <td>Contains Layer</td>\n      <td>EleFront.Components.Params.Param_Layer</td>\n      <td>eleFront</td>\n    </tr>\n  </tbody>\n</table>\n<p>1734 rows × 7 columns</p>\n</div>"
     },
     "execution_count": 2,
     "metadata": {},
     "output_type": "execute_result"
    }
   ],
   "source": [
    "import pandas as pd\n",
    "pd.read_csv(\"grasshopper_components.csv\")"
   ],
   "metadata": {
    "collapsed": false,
    "ExecuteTime": {
     "end_time": "2024-02-29T14:15:40.920973800Z",
     "start_time": "2024-02-29T14:15:40.693520600Z"
    }
   },
   "id": "92225a3b1f5ba76b",
   "execution_count": 2
  }
 ],
 "metadata": {
  "kernelspec": {
   "display_name": "Python 3",
   "language": "python",
   "name": "python3"
  },
  "language_info": {
   "codemirror_mode": {
    "name": "ipython",
    "version": 2
   },
   "file_extension": ".py",
   "mimetype": "text/x-python",
   "name": "python",
   "nbconvert_exporter": "python",
   "pygments_lexer": "ipython2",
   "version": "2.7.6"
  }
 },
 "nbformat": 4,
 "nbformat_minor": 5
}
