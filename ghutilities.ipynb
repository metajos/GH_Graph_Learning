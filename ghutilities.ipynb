{
 "cells": [
  {
   "cell_type": "code",
   "execution_count": 37,
   "id": "initial_id",
   "metadata": {
    "collapsed": true,
    "ExecuteTime": {
     "end_time": "2024-03-09T11:46:26.866338200Z",
     "start_time": "2024-03-09T11:46:26.856830900Z"
    }
   },
   "outputs": [],
   "source": [
    "from environment_manager import *\n",
    "name = \"240308-initial\"\n",
    "env = load_create_environment(name)\n"
   ]
  },
  {
   "cell_type": "code",
   "outputs": [],
   "source": [
    "path = Path(r\"C:\\Users\\jossi\\Dropbox\\Office_Work\\Jos\\GH_Graph_Learning\\ExtractionEnvironments\\240308-initial\\03-GH_Files\\0_Periodic_surfaces.gh\")\n",
    "name = path.name.split(\".\")[0]\n",
    "doc = GHProcessor.get_ghdoc(str(path))\n"
   ],
   "metadata": {
    "collapsed": false,
    "ExecuteTime": {
     "end_time": "2024-03-09T11:46:27.708388500Z",
     "start_time": "2024-03-09T11:46:27.684389200Z"
    }
   },
   "id": "1a4bae3a237fbba6",
   "execution_count": 38
  },
  {
   "cell_type": "code",
   "outputs": [],
   "source": [
    "rod = Grasshopper.Kernel.GH_RelevantObjectData\n",
    "cluster = None\n",
    "def open_file(doc):\n",
    "    for node in doc.Objects:\n",
    "        \n",
    "        if node.Name == \"Cluster\" or node.Name == \"Group\":\n",
    "            continue\n"
   ],
   "metadata": {
    "collapsed": false,
    "ExecuteTime": {
     "end_time": "2024-03-09T12:04:14.007069500Z",
     "start_time": "2024-03-09T12:04:13.998562900Z"
    }
   },
   "id": "92225a3b1f5ba76b",
   "execution_count": 59
  },
  {
   "cell_type": "code",
   "outputs": [],
   "source": [
    "open_file(doc)"
   ],
   "metadata": {
    "collapsed": false,
    "ExecuteTime": {
     "end_time": "2024-03-09T12:04:14.901272200Z",
     "start_time": "2024-03-09T12:04:14.886268200Z"
    }
   },
   "id": "b170e8b69a031c2",
   "execution_count": 60
  },
  {
   "cell_type": "code",
   "outputs": [
    {
     "ename": "ImportError",
     "evalue": "cannot import name 'IGH_TooltipAwareObject' from 'Grasshopper.GUI' (unknown location)",
     "output_type": "error",
     "traceback": [
      "\u001B[1;31m---------------------------------------------------------------------------\u001B[0m",
      "\u001B[1;31mImportError\u001B[0m                               Traceback (most recent call last)",
      "Cell \u001B[1;32mIn[58], line 1\u001B[0m\n\u001B[1;32m----> 1\u001B[0m \u001B[38;5;28;01mfrom\u001B[39;00m \u001B[38;5;21;01mGrasshopper\u001B[39;00m\u001B[38;5;21;01m.\u001B[39;00m\u001B[38;5;21;01mGUI\u001B[39;00m \u001B[38;5;28;01mimport\u001B[39;00m IGH_TooltipAwareObject\n\u001B[0;32m      2\u001B[0m GUI\u001B[38;5;241m.\u001B[39mCanvas(cluster)\n",
      "\u001B[1;31mImportError\u001B[0m: cannot import name 'IGH_TooltipAwareObject' from 'Grasshopper.GUI' (unknown location)"
     ]
    }
   ],
   "source": [
    "\n",
    "cluster"
   ],
   "metadata": {
    "collapsed": false,
    "ExecuteTime": {
     "end_time": "2024-03-09T11:59:13.926883500Z",
     "start_time": "2024-03-09T11:59:13.424181900Z"
    }
   },
   "id": "7fa26d628e98c120",
   "execution_count": 58
  },
  {
   "cell_type": "code",
   "outputs": [],
   "source": [],
   "metadata": {
    "collapsed": false,
    "ExecuteTime": {
     "end_time": "2024-03-09T10:06:43.071117400Z",
     "start_time": "2024-03-09T10:06:43.052610200Z"
    }
   },
   "id": "7e0d59cbe89e8890",
   "execution_count": 2
  },
  {
   "cell_type": "code",
   "outputs": [],
   "source": [],
   "metadata": {
    "collapsed": false,
    "ExecuteTime": {
     "end_time": "2024-03-09T10:06:43.085118Z",
     "start_time": "2024-03-09T10:06:43.069118400Z"
    }
   },
   "id": "ce31125c415ab8fa",
   "execution_count": 2
  },
  {
   "cell_type": "code",
   "outputs": [],
   "source": [],
   "metadata": {
    "collapsed": false,
    "ExecuteTime": {
     "end_time": "2024-03-09T10:06:43.108574700Z",
     "start_time": "2024-03-09T10:06:43.086118400Z"
    }
   },
   "id": "51f57954e67ce707",
   "execution_count": 2
  },
  {
   "cell_type": "code",
   "outputs": [],
   "source": [],
   "metadata": {
    "collapsed": false,
    "ExecuteTime": {
     "end_time": "2024-03-09T10:06:43.118574300Z",
     "start_time": "2024-03-09T10:06:43.101573800Z"
    }
   },
   "id": "ed73317a9b7a9bb5",
   "execution_count": 2
  },
  {
   "cell_type": "code",
   "outputs": [],
   "source": [],
   "metadata": {
    "collapsed": false,
    "ExecuteTime": {
     "end_time": "2024-03-09T10:06:43.133574400Z",
     "start_time": "2024-03-09T10:06:43.118574300Z"
    }
   },
   "id": "a0740d1a07fd3c45",
   "execution_count": 2
  }
 ],
 "metadata": {
  "kernelspec": {
   "display_name": "Python 3",
   "language": "python",
   "name": "python3"
  },
  "language_info": {
   "codemirror_mode": {
    "name": "ipython",
    "version": 2
   },
   "file_extension": ".py",
   "mimetype": "text/x-python",
   "name": "python",
   "nbconvert_exporter": "python",
   "pygments_lexer": "ipython2",
   "version": "2.7.6"
  }
 },
 "nbformat": 4,
 "nbformat_minor": 5
}
