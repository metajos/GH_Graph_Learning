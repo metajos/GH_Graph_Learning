{
 "cells": [
  {
   "cell_type": "code",
   "execution_count": 1,
   "id": "initial_id",
   "metadata": {
    "collapsed": true,
    "ExecuteTime": {
     "end_time": "2024-03-01T14:28:12.359159200Z",
     "start_time": "2024-03-01T14:28:12.178489400Z"
    }
   },
   "outputs": [],
   "source": [
    "import pandas as pd\n",
    "import os\n",
    "\n",
    "from gh_logging import LogManager\n",
    "\n",
    "\n",
    "def is_igh(obj, igh):\n",
    "    \"\"\"Check to see if an object implements a given interface, for example IGH_Component or IGH_Params\n",
    "        ::return True if the object implements a given interface\n",
    "    \"\"\"\n",
    "    try: \n",
    "        if igh(obj):\n",
    "            return True\n",
    "    except:\n",
    "        return False\n",
    "    \n",
    "def split_gh_graph_numbering(string):\n",
    "    return [int(x) for x in string.split(\"-\")]\n",
    "\n"
   ]
  },
  {
   "cell_type": "code",
   "outputs": [
    {
     "data": {
      "text/plain": "      category                             name  \\\n0        Curve                              Arc   \n1        Curve                          Arc 3Pt   \n2        Curve                          Arc SED   \n3        Curve                      Bezier Span   \n4        Curve                            BiArc   \n...        ...                              ...   \n1729  eleFront  Update All Reference Components   \n1730  eleFront                     Update Group   \n1731  eleFront                   eleFront Block   \n1732  eleFront        eleFront Data Description   \n1733  eleFront                    eleFrontLayer   \n\n                                      guid           nickname  \\\n0     bb59bffc-f54c-4682-9778-f6c3fe74fce3                Arc   \n1     9fa1b081-b1c7-4a12-a163-0aa8da9ff6c4                Arc   \n2     9d2583dd-6cf5-497c-8c40-c9a290598396                Arc   \n3     30ce59ce-22a1-49ee-9e21-e6d16b3684a8             BzSpan   \n4     75f4b0fd-9721-47b1-99e7-9c098b342e67              BiArc   \n...                                    ...                ...   \n1729  63eaf9fd-7214-475a-8187-20a458a69138  Update Refs - All   \n1730  7f88e70f-e456-40ee-a795-78fbaceb82ce       Update Group   \n1731  877a63a0-03b5-4c4c-90f9-65f1b7f86f65              Block   \n1732  5bd835d3-a4c1-4922-839b-3a9ebeb78b67        Description   \n1733  3fb43af7-d691-4a49-9fdd-502abb1f13f5              Layer   \n\n                                            description  \\\n0     Create an arc defined by base plane, radius an...   \n1                   Create an arc through three points.   \n2     Create an arc defined by start point, end poin...   \n3     Construct a bezier span from endpoints and tan...   \n4      Create a bi-arc based on endpoints and tangents.   \n...                                                 ...   \n1729  Update all eleFront Reference components with ...   \n1730  Activate all EleFront components that share th...   \n1731                            Contains eleFront Block   \n1732  Use this component to guide your data streams ...   \n1733                                     Contains Layer   \n\n                                                   type           library  \n0                         CurveComponents.Component_Arc  Curve Components  \n1                      CurveComponents.Component_Arc3Pt  Curve Components  \n2                      CurveComponents.Component_ArcSED  Curve Components  \n3                  CurveComponents.Component_BezierSpan  Curve Components  \n4                       CurveComponents.Component_BiArc  Curve Components  \n...                                                 ...               ...  \n1729  EleFront.Components.Reference.Param_UpdateAllR...          eleFront  \n1730  EleFront.Components.Reference.Param_UpdateGrou...          eleFront  \n1731             EleFront.Components.Params.Param_Block          eleFront  \n1732          EleFront.Components.Params.Param_DataDesc          eleFront  \n1733             EleFront.Components.Params.Param_Layer          eleFront  \n\n[1734 rows x 7 columns]",
      "text/html": "<div>\n<style scoped>\n    .dataframe tbody tr th:only-of-type {\n        vertical-align: middle;\n    }\n\n    .dataframe tbody tr th {\n        vertical-align: top;\n    }\n\n    .dataframe thead th {\n        text-align: right;\n    }\n</style>\n<table border=\"1\" class=\"dataframe\">\n  <thead>\n    <tr style=\"text-align: right;\">\n      <th></th>\n      <th>category</th>\n      <th>name</th>\n      <th>guid</th>\n      <th>nickname</th>\n      <th>description</th>\n      <th>type</th>\n      <th>library</th>\n    </tr>\n  </thead>\n  <tbody>\n    <tr>\n      <th>0</th>\n      <td>Curve</td>\n      <td>Arc</td>\n      <td>bb59bffc-f54c-4682-9778-f6c3fe74fce3</td>\n      <td>Arc</td>\n      <td>Create an arc defined by base plane, radius an...</td>\n      <td>CurveComponents.Component_Arc</td>\n      <td>Curve Components</td>\n    </tr>\n    <tr>\n      <th>1</th>\n      <td>Curve</td>\n      <td>Arc 3Pt</td>\n      <td>9fa1b081-b1c7-4a12-a163-0aa8da9ff6c4</td>\n      <td>Arc</td>\n      <td>Create an arc through three points.</td>\n      <td>CurveComponents.Component_Arc3Pt</td>\n      <td>Curve Components</td>\n    </tr>\n    <tr>\n      <th>2</th>\n      <td>Curve</td>\n      <td>Arc SED</td>\n      <td>9d2583dd-6cf5-497c-8c40-c9a290598396</td>\n      <td>Arc</td>\n      <td>Create an arc defined by start point, end poin...</td>\n      <td>CurveComponents.Component_ArcSED</td>\n      <td>Curve Components</td>\n    </tr>\n    <tr>\n      <th>3</th>\n      <td>Curve</td>\n      <td>Bezier Span</td>\n      <td>30ce59ce-22a1-49ee-9e21-e6d16b3684a8</td>\n      <td>BzSpan</td>\n      <td>Construct a bezier span from endpoints and tan...</td>\n      <td>CurveComponents.Component_BezierSpan</td>\n      <td>Curve Components</td>\n    </tr>\n    <tr>\n      <th>4</th>\n      <td>Curve</td>\n      <td>BiArc</td>\n      <td>75f4b0fd-9721-47b1-99e7-9c098b342e67</td>\n      <td>BiArc</td>\n      <td>Create a bi-arc based on endpoints and tangents.</td>\n      <td>CurveComponents.Component_BiArc</td>\n      <td>Curve Components</td>\n    </tr>\n    <tr>\n      <th>...</th>\n      <td>...</td>\n      <td>...</td>\n      <td>...</td>\n      <td>...</td>\n      <td>...</td>\n      <td>...</td>\n      <td>...</td>\n    </tr>\n    <tr>\n      <th>1729</th>\n      <td>eleFront</td>\n      <td>Update All Reference Components</td>\n      <td>63eaf9fd-7214-475a-8187-20a458a69138</td>\n      <td>Update Refs - All</td>\n      <td>Update all eleFront Reference components with ...</td>\n      <td>EleFront.Components.Reference.Param_UpdateAllR...</td>\n      <td>eleFront</td>\n    </tr>\n    <tr>\n      <th>1730</th>\n      <td>eleFront</td>\n      <td>Update Group</td>\n      <td>7f88e70f-e456-40ee-a795-78fbaceb82ce</td>\n      <td>Update Group</td>\n      <td>Activate all EleFront components that share th...</td>\n      <td>EleFront.Components.Reference.Param_UpdateGrou...</td>\n      <td>eleFront</td>\n    </tr>\n    <tr>\n      <th>1731</th>\n      <td>eleFront</td>\n      <td>eleFront Block</td>\n      <td>877a63a0-03b5-4c4c-90f9-65f1b7f86f65</td>\n      <td>Block</td>\n      <td>Contains eleFront Block</td>\n      <td>EleFront.Components.Params.Param_Block</td>\n      <td>eleFront</td>\n    </tr>\n    <tr>\n      <th>1732</th>\n      <td>eleFront</td>\n      <td>eleFront Data Description</td>\n      <td>5bd835d3-a4c1-4922-839b-3a9ebeb78b67</td>\n      <td>Description</td>\n      <td>Use this component to guide your data streams ...</td>\n      <td>EleFront.Components.Params.Param_DataDesc</td>\n      <td>eleFront</td>\n    </tr>\n    <tr>\n      <th>1733</th>\n      <td>eleFront</td>\n      <td>eleFrontLayer</td>\n      <td>3fb43af7-d691-4a49-9fdd-502abb1f13f5</td>\n      <td>Layer</td>\n      <td>Contains Layer</td>\n      <td>EleFront.Components.Params.Param_Layer</td>\n      <td>eleFront</td>\n    </tr>\n  </tbody>\n</table>\n<p>1734 rows × 7 columns</p>\n</div>"
     },
     "execution_count": 2,
     "metadata": {},
     "output_type": "execute_result"
    }
   ],
   "source": [
    "import pandas as pd\n",
    "pd.read_csv(\"grasshopper_components.csv\")"
   ],
   "metadata": {
    "collapsed": false,
    "ExecuteTime": {
     "end_time": "2024-02-29T14:15:40.920973800Z",
     "start_time": "2024-02-29T14:15:40.693520600Z"
    }
   },
   "id": "92225a3b1f5ba76b",
   "execution_count": 2
  },
  {
   "cell_type": "code",
   "outputs": [],
   "source": [
    "from pathlib import Path"
   ],
   "metadata": {
    "collapsed": false,
    "ExecuteTime": {
     "end_time": "2024-03-07T11:15:41.129274400Z",
     "start_time": "2024-03-07T11:15:41.122275900Z"
    }
   },
   "id": "b170e8b69a031c2",
   "execution_count": 1
  },
  {
   "cell_type": "code",
   "outputs": [],
   "source": [],
   "metadata": {
    "collapsed": false,
    "ExecuteTime": {
     "end_time": "2024-03-07T11:24:35.809397800Z",
     "start_time": "2024-03-07T11:24:35.789044800Z"
    }
   },
   "id": "7fa26d628e98c120",
   "execution_count": 12
  },
  {
   "cell_type": "code",
   "outputs": [
    {
     "name": "stderr",
     "output_type": "stream",
     "text": [
      "logger1 - INFO - This is an info message for logger1.\n"
     ]
    }
   ],
   "source": [],
   "metadata": {
    "collapsed": false,
    "ExecuteTime": {
     "end_time": "2024-03-07T13:35:31.496228Z",
     "start_time": "2024-03-07T13:35:31.478122800Z"
    }
   },
   "id": "7e0d59cbe89e8890",
   "execution_count": 13
  },
  {
   "cell_type": "code",
   "outputs": [
    {
     "name": "stderr",
     "output_type": "stream",
     "text": [
      "complog - DEBUG - This is a debug message from complog\n",
      "complog - DEBUG - This is a debug message from complog\n",
      "complog - DEBUG - This is a debug message from complog\n"
     ]
    }
   ],
   "source": [],
   "metadata": {
    "collapsed": false,
    "ExecuteTime": {
     "end_time": "2024-03-08T13:26:41.782655600Z",
     "start_time": "2024-03-08T13:26:41.768896800Z"
    }
   },
   "id": "ce31125c415ab8fa",
   "execution_count": 12
  },
  {
   "cell_type": "code",
   "outputs": [
    {
     "name": "stderr",
     "output_type": "stream",
     "text": [
      "complog - DEBUG - This is a debug message from complog\n",
      "complog - DEBUG - This is a debug message from complog\n",
      "complog - DEBUG - This is a debug message from complog\n"
     ]
    }
   ],
   "source": [],
   "metadata": {
    "collapsed": false,
    "ExecuteTime": {
     "end_time": "2024-03-08T13:27:53.196839800Z",
     "start_time": "2024-03-08T13:27:53.177875100Z"
    }
   },
   "id": "51f57954e67ce707",
   "execution_count": 23
  },
  {
   "cell_type": "code",
   "outputs": [
    {
     "ename": "NameError",
     "evalue": "name '__file__' is not defined",
     "output_type": "error",
     "traceback": [
      "\u001B[1;31m---------------------------------------------------------------------------\u001B[0m",
      "\u001B[1;31mNameError\u001B[0m                                 Traceback (most recent call last)",
      "Cell \u001B[1;32mIn[23], line 1\u001B[0m\n\u001B[1;32m----> 1\u001B[0m \u001B[38;5;18;43m__file__\u001B[39;49m\n",
      "\u001B[1;31mNameError\u001B[0m: name '__file__' is not defined"
     ]
    }
   ],
   "source": [
    "import datetime\n",
    "import json\n",
    "import os\n",
    "import pickle\n",
    "import shutil\n",
    "from pathlib import Path\n",
    "from gh_logging import LogManager\n",
    "class EnvironmentManager:\n",
    "    _environments = {}  # Stores Environment instances keyed by environment_name\n",
    "\n",
    "    # Define directory structure as a class-level attribute.\n",
    "    DIR_STRUCTURE = {\n",
    "        \"vanilla\": \"00-VanillaComponents\",\n",
    "        \"all\": \"01-AllComponents\",\n",
    "        \"logs\": \"02-Logs\",\n",
    "        \"files\": \"03-GH_Files\",\n",
    "        \"csv\": \"04-CSV\",\n",
    "        \"graphml\": \"05-GraphML\",\n",
    "        \"ghlib\": \"99-GH-Lib\"\n",
    "    }\n",
    "\n",
    "    GHPATH = r\"C:\\Users\\jossi\\AppData\\Roaming\\Grasshopper\\Libraries\"\n",
    "    VANILLA_PATH = r\"C:\\Users\\jossi\\Dropbox\\Office_Work\\Jos\\GH_Graph_Learning\\Grasshopper Components\\240307-CoreComponents\\vanilla_components.csv\"\n",
    "   \n",
    "    class Environment:\n",
    "        def __init__(self, environment_name):\n",
    "            prefix = datetime.datetime.now().strftime(\"%y%m%d\")\n",
    "            self.environment_name = environment_name\n",
    "            self.base_path = Path(\"ExtractionEnvironments\") / f\"{prefix}-{environment_name}\"\n",
    "            self.base_path.mkdir(parents=True, exist_ok=True)\n",
    "            self.logmanager = None\n",
    "            # Initialize directories based on the class-level DIR_STRUCTURE\n",
    "            self.dirs = {name: self.base_path / dirname for name, dirname in EnvironmentManager.DIR_STRUCTURE.items()}\n",
    "            for path in self.dirs.values():\n",
    "                path.mkdir(parents=True, exist_ok=True)\n",
    "            #  Create loggers.\n",
    "            LogManager.new_logger(\"clog\", Path(self.base_path)/self.dirs['logs'], \"clog.log\")\n",
    "            LogManager.new_logger(\"flog\", Path(self.base_path)/self.dirs['logs'], 'flog.log')\n",
    "            self.gh_path = Path(EnvironmentManager.GHPATH)\n",
    "            self.initialise()\n",
    "            self.serialize()\n",
    "            \n",
    "\n",
    "        def serialize(self):\n",
    "            file_path = self.base_path / \"environment.pkl\"\n",
    "            with open(file_path, \"wb\") as file:\n",
    "                pickle.dump(self, file)\n",
    "\n",
    "        def clone_env(self, clone=False):\n",
    "            GH_path = Path(self.gh_path)  # Ensure GH_path is a Path object\n",
    "            lib_path = self.dirs.get('ghlib')\n",
    "\n",
    "            if clone:\n",
    "                # os.walk() iterates over the directories and files in GH_path\n",
    "                for root, dirs, files in os.walk(GH_path):\n",
    "                    root_path = Path(root)\n",
    "                    relative_path = root_path.relative_to(GH_path)\n",
    "                    # For each file in the current directory\n",
    "                    for file in files:\n",
    "                        # Source file path\n",
    "                        source_path = root_path / file\n",
    "                        # Destination path includes the relative_path to preserve the directory structure\n",
    "                        destination_path = lib_path / relative_path / file\n",
    "                        # Ensure the destination directory exists\n",
    "                        destination_path.parent.mkdir(parents=True, exist_ok=True)\n",
    "                        # Copy the file to the destination\n",
    "                        shutil.copy(source_path, destination_path)\n",
    "\n",
    "        def reinstate_env(self, override=False):\n",
    "            if input(\"Are you sure you want to reinstate the environment? \\n\"\n",
    "                     \"This will replace existing files in GH Libraries Folder\"\n",
    "                     \"with those belonging to this environment? [y/n]\").lower() == \"y\" \\\n",
    "                    or override:\n",
    "                print(\"Reinstating environment...\")\n",
    "                GH_path = self.gh_path\n",
    "                lib_path = self.dirs[\"99-GH-Lib\"]\n",
    "\n",
    "                # Delete all files in GH_path\n",
    "                for root, dirs, files in os.walk(GH_path):\n",
    "                    for file in files:\n",
    "                        file_path = Path(root) / file\n",
    "                        if file_path.is_file():\n",
    "                            file_path.unlink()\n",
    "\n",
    "                # Copy all files from 99-GH-Lib back to GH_path\n",
    "                for file in lib_path.iterdir():\n",
    "                    if file.is_file():\n",
    "                        shutil.copy(file, GH_path)\n",
    "            else:\n",
    "                print(\"Reinstate cancelled\")\n",
    "    \n",
    "        def clone_env(self, clone=False):\n",
    "            GH_path = Path(self.gh_path)  # Ensure GH_path is a Path object\n",
    "            lib_path = self.dirs[\"ghlib\"]\n",
    "    \n",
    "            if clone:\n",
    "                # os.walk() iterates over the directories and files in GH_path\n",
    "                for root, dirs, files in os.walk(GH_path):\n",
    "                    # Convert root to a Path object for easier manipulation\n",
    "                    root_path = Path(root)\n",
    "    \n",
    "                    # Calculate the relative path from GH_path to the current directory\n",
    "                    relative_path = root_path.relative_to(GH_path)\n",
    "    \n",
    "                    # For each file in the current directory\n",
    "                    for file in files:\n",
    "                        # Source file path\n",
    "                        source_path = root_path / file\n",
    "    \n",
    "                        # Destination path includes the relative_path to preserve the directory structure\n",
    "                        destination_path = lib_path / relative_path / file\n",
    "    \n",
    "                        # Ensure the destination directory exists\n",
    "                        destination_path.parent.mkdir(parents=True, exist_ok=True)\n",
    "    \n",
    "                        # Copy the file to the destination\n",
    "                        shutil.copy(source_path, destination_path)\n",
    "    \n",
    "        def reinstate_env(self, override = False):\n",
    "            if input(\"Are you sure you want to reinstate the environment? \\n\"\n",
    "                     \"This will replace existing files in GH Libraries Folder\"\n",
    "                     \"with those belonging to this environment? [y/n]\").lower() == \"y\"\\\n",
    "                    or override:\n",
    "                print(\"Reinstating environment...\")\n",
    "                GH_path = self.gh_path\n",
    "                lib_path = self.dirs[\"ghlib\"]\n",
    "    \n",
    "                # Delete all files in GH_path\n",
    "                for root, dirs, files in os.walk(GH_path):\n",
    "                    for file in files:\n",
    "                        file_path = Path(root) / file\n",
    "                        if file_path.is_file():\n",
    "                            file_path.unlink()\n",
    "    \n",
    "                # Copy all files from 99-GH-Lib back to GH_path\n",
    "                for file in lib_path.iterdir():\n",
    "                    if file.is_file():\n",
    "                        shutil.copy(file, GH_path)\n",
    "            else:\n",
    "                print(\"Reinstate cancelled\")\n",
    "    \n",
    "        def view_gh_environment(self):\n",
    "            for root, dirs, files in os.walk(self.dirs[\"ghlib\"]):\n",
    "                for file in files:\n",
    "                    print(file)\n",
    "    \n",
    "        def copy_file(self, src, dst):\n",
    "            \"\"\"\n",
    "            Copies a file from the source path to the destination path.\n",
    "    \n",
    "            :param src: The source file path as a string or Path object.\n",
    "            :param dst: The destination file path as a string or Path object.\n",
    "            \"\"\"\n",
    "            # Ensure that the source exists and is a file\n",
    "            if not src.exists() or not src.is_file():\n",
    "                print(f\"Source file does not exist or is not a file: {src}\")\n",
    "                return\n",
    "    \n",
    "            # Ensure the destination directory exists, if not, create it\n",
    "            dst.parent.mkdir(parents=True, exist_ok=True)\n",
    "    \n",
    "            # Copy the file\n",
    "            try:\n",
    "                shutil.copyfile(src, dst)\n",
    "                print(f\"File copied successfully from {src} to {dst}.\")\n",
    "            except Exception as e:\n",
    "                print(f\"Error copying file from {src} to {dst}: {e}\")\n",
    "        \n",
    "        def initialise(self, vanilla_components: Path = None, clone_env=True):\n",
    "            print(\"Setting environment variables\")\n",
    "            print(\"Copying vanilla components\")\n",
    "            if vanilla_components is None:\n",
    "                vanilla_components = Path(EnvironmentManager.VANILLA_PATH)\n",
    "            if vanilla_components:\n",
    "                # Ensure the destination directory exists\n",
    "                vanilla_components_destination = self.dirs[\"vanilla\"]\n",
    "                vanilla_components_destination.mkdir(parents=True, exist_ok=True)\n",
    "                # Construct the full destination path including the filename\n",
    "                destination_path = vanilla_components_destination / vanilla_components.name\n",
    "                # Use the adjusted destination path that includes the filename\n",
    "                self.copy_file(vanilla_components, destination_path)\n",
    "            print(\"Copying components\")\n",
    "            self.clone_env(clone_env)\n",
    "        \n",
    "    \n",
    "        def get_test_files(self):\n",
    "            for root, dirs, files in os.walk(self.dirs[\"files\"]):\n",
    "                for file in files:\n",
    "                    if file.endswith(\".gh\"):\n",
    "                        yield os.path.join(root, file)\n",
    "\n",
    "\n",
    "    @classmethod\n",
    "    def create_or_load_environment(cls, environment_name):\n",
    "        if environment_name not in cls._environments:\n",
    "            cls._environments[environment_name] = cls.Environment(environment_name)\n",
    "        return cls._environments[environment_name]\n",
    "\n",
    "    @classmethod\n",
    "    def get_directory_names(cls):\n",
    "        # Returns the directory names defined at the class level\n",
    "        return list(cls.DIR_STRUCTURE.values())\n",
    "\n",
    "\n",
    "\n"
   ],
   "metadata": {
    "collapsed": false,
    "ExecuteTime": {
     "end_time": "2024-03-08T09:38:09.528409100Z",
     "start_time": "2024-03-08T09:38:09.492715100Z"
    }
   },
   "id": "ed73317a9b7a9bb5",
   "execution_count": 23
  },
  {
   "cell_type": "code",
   "outputs": [],
   "source": [],
   "metadata": {
    "collapsed": false
   },
   "id": "a0740d1a07fd3c45"
  }
 ],
 "metadata": {
  "kernelspec": {
   "display_name": "Python 3",
   "language": "python",
   "name": "python3"
  },
  "language_info": {
   "codemirror_mode": {
    "name": "ipython",
    "version": 2
   },
   "file_extension": ".py",
   "mimetype": "text/x-python",
   "name": "python",
   "nbconvert_exporter": "python",
   "pygments_lexer": "ipython2",
   "version": "2.7.6"
  }
 },
 "nbformat": 4,
 "nbformat_minor": 5
}
