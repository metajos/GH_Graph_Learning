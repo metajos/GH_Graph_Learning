{
 "cells": [
  {
   "cell_type": "code",
   "outputs": [
    {
     "name": "stdout",
     "output_type": "stream",
     "text": [
      "True\n",
      "12.1\n"
     ]
    }
   ],
   "source": [
    "import torch\n",
    "print(torch.cuda.is_available())  # Should return True if CUDA is available\n",
    "print(torch.version.cuda)         # Should print your CUDA version, e.g\n"
   ],
   "metadata": {
    "collapsed": false,
    "ExecuteTime": {
     "end_time": "2024-03-21T11:47:08.440425100Z",
     "start_time": "2024-03-21T11:47:06.548615600Z"
    }
   },
   "id": "e118181e0321cfe1",
   "execution_count": 2
  },
  {
   "cell_type": "code",
   "outputs": [
    {
     "name": "stdout",
     "output_type": "stream",
     "text": [
      "Setting environment variables\n",
      "Copying vanilla components\n",
      "File copied successfully from C:\\Users\\jossi\\Dropbox\\Office_Work\\Jos\\GH_Graph_Learning\\Grasshopper Components\\240318-VanillaComponents\\vanilla_components.csv to ExtractionEnvironments\\240318-initial parsing\\00-VanillaComponents\\vanilla_components.csv.\n",
      "Copying components\n",
      "Copying gh files\n"
     ]
    }
   ],
   "source": [
    "import matplotlib.pyplot as plt\n",
    "import networkx as nx\n",
    "import os\n",
    "from pathlib import Path\n",
    "import pandas as pd\n",
    "import seaborn as sns\n",
    "import torch\n",
    "from torch_geometric.data import Data\n",
    "from torch_geometric import utils\n",
    "from environment_manager import *\n",
    "name = \"240318-initial parsing\"\n",
    "env = load_create_environment(name)\n",
    "GHComponentTable.initialise()"
   ],
   "metadata": {
    "collapsed": false,
    "ExecuteTime": {
     "end_time": "2024-03-21T11:47:18.416500500Z",
     "start_time": "2024-03-21T11:47:08.441429Z"
    }
   },
   "id": "210c8966c2055b43",
   "execution_count": 3
  },
  {
   "cell_type": "markdown",
   "source": [],
   "metadata": {
    "collapsed": false
   },
   "id": "c12d2aa1e8a95bc6"
  },
  {
   "cell_type": "code",
   "outputs": [],
   "source": [],
   "metadata": {
    "collapsed": false,
    "ExecuteTime": {
     "end_time": "2024-03-21T11:47:18.432634Z",
     "start_time": "2024-03-21T11:47:18.416500500Z"
    }
   },
   "id": "a1698b7599083288",
   "execution_count": 3
  },
  {
   "cell_type": "code",
   "execution_count": 4,
   "id": "initial_id",
   "metadata": {
    "collapsed": true,
    "ExecuteTime": {
     "end_time": "2024-03-21T11:47:18.467733400Z",
     "start_time": "2024-03-21T11:47:18.436641200Z"
    }
   },
   "outputs": [],
   "source": [
    "import matplotlib.pyplot as plt\n",
    "import networkx as nx\n",
    "import matplotlib.colors as mcolors\n",
    "\n",
    "def plot_graph_by_category(graph):\n",
    "    # Create a figure and axis\n",
    "    fig, ax = plt.subplots(figsize=(10, 8))\n",
    "\n",
    "    # Get the unique categories\n",
    "    categories = set(nx.get_node_attributes(graph, 'category').values())\n",
    "\n",
    "    # Create a color map based on the number of categories\n",
    "    num_colors = len(categories)\n",
    "    color_map = plt.cm.get_cmap('viridis', num_colors)\n",
    "\n",
    "    # Create a dictionary mapping categories to colors\n",
    "    category_colors = {}\n",
    "    for i, category in enumerate(categories):\n",
    "        category_colors[category] = mcolors.to_hex(color_map(i))\n",
    "\n",
    "    # Create a dictionary of node positions\n",
    "    pos = nx.get_node_attributes(graph, 'pos')\n",
    "    if not pos:  # If 'pos' attribute is not available, use 'x' and 'y' attributes\n",
    "        pos = {node_id: (data['x'], data['y']) for node_id, data in graph.nodes(data=True)}\n",
    "\n",
    "    # Create a list of colors based on the node categories\n",
    "    node_colors = [category_colors[graph.nodes[node].get('category', '')] for node in graph.nodes()]\n",
    "\n",
    "    # Draw the graph\n",
    "    nx.draw(graph, pos=pos, with_labels=False, node_size=10, node_color=node_colors, edge_color='gray', arrows=True, ax=ax)\n",
    "\n",
    "    # Create a legend\n",
    "    legend_elements = [plt.Line2D([0], [0], marker='o', color='w', label=category,\n",
    "                                  markerfacecolor=color, markersize=8)\n",
    "                       for category, color in category_colors.items()]\n",
    "    ax.legend(handles=legend_elements, title='Categories', loc='upper right')\n",
    "\n",
    "    # Show the plot\n",
    "    plt.axis('equal')\n",
    "    plt.show()"
   ]
  },
  {
   "cell_type": "code",
   "outputs": [],
   "source": [
    "import os\n",
    "import networkx as nx\n",
    "\n",
    "graph_folder = r'C:\\Users\\jossi\\Dropbox\\Office_Work\\Jos\\GH_Graph_Learning\\ExtractionEnvironments\\240318-initial parsing\\05-GraphML'\n",
    "# Initialize an empty list to store dictionaries\n",
    "data_list = []\n",
    "\n",
    "\n",
    "# Create a new graph to store the combined graph\n",
    "combined_graph = nx.DiGraph()\n",
    "graph_data = []\n",
    "for i, file in enumerate(os.listdir(graph_folder)):\n",
    "    if file.endswith('.graphml'):\n",
    "        G = nx.read_graphml(os.path.join(graph_folder, file))\n",
    "        # Skip files with no nodes to avoid division by zero\n",
    "        if G.number_of_nodes() < 5:\n",
    "            continue\n",
    "        if G.number_of_edges() == 0:\n",
    "            continue\n",
    "        graph_data.append(G)\n",
    "        combined_graph.add_nodes_from(G.nodes(data=True))\n",
    "        combined_graph.add_edges_from(G.edges(data=True))\n",
    "\n",
    "    "
   ],
   "metadata": {
    "collapsed": false,
    "ExecuteTime": {
     "end_time": "2024-03-21T11:47:28.802474300Z",
     "start_time": "2024-03-21T11:47:18.447616Z"
    }
   },
   "id": "ea5b66deb433816f",
   "execution_count": 5
  },
  {
   "cell_type": "code",
   "outputs": [
    {
     "name": "stdout",
     "output_type": "stream",
     "text": [
      "[('c9cde350-c7de-4df6-8a70-82cc57fd78ac', {'x': 428.0, 'y': 193.0, 'compid': '807b86e3-be8d-4970-92b5-f8cdcb45b06b', 'category': 'Curve'}), ('8f48460a-8768-456a-a63e-e1183c8c2f9e', {'x': 591.0, 'y': 217.0, 'compid': '962034e9-cc27-4394-afc4-5c16e3447cf9', 'category': 'Surface'}), ('1761219f-05c6-480d-a4f6-adfa5b5c8ea5', {'x': 139.5, 'y': 201.0, 'compid': '57da07bd-ecab-415d-9d86-af36d7073abc', 'category': 'Params'}), ('bb87905f-0d55-44fe-aea0-c50778c90631', {'x': 763.0, 'y': 250.0, 'compid': '5106bafc-d5d4-4983-83e7-7be3ed07f502', 'category': 'Surface'}), ('8b71cf8a-5e29-4ea0-8efe-04b349b8ad46', {'x': 435.0, 'y': 267.0, 'compid': '9103c240-a6a9-4223-9b42-dbd19bf38e2b', 'category': 'Vector'}), ('1087a0c7-90b1-41cd-88ed-22b3ec5cac33', {'x': 176.3834991455078, 'y': 271.78900146484375, 'compid': '57da07bd-ecab-415d-9d86-af36d7073abc', 'category': 'Params'}), ('f1c9c47f-4fd6-4aa7-911e-301230895ad6', {'x': 892.0, 'y': 215.0, 'compid': '41aa4112-9c9b-42f4-847e-503b9d90e4c7', 'category': 'Sets'}), ('6afb0234-b232-46ff-8ca3-9c689ff3bd58', {'x': 457.690185546875, 'y': 302.284912109375, 'compid': '57da07bd-ecab-415d-9d86-af36d7073abc', 'category': 'Params'}), ('84ef9d00-d570-4b31-85f5-efd88ac8871a', {'x': 463.5173034667969, 'y': 347.75439453125, 'compid': '57da07bd-ecab-415d-9d86-af36d7073abc', 'category': 'Params'}), ('c10c3524-40ae-41e6-a44c-356f0b256d4b', {'x': 1015.0, 'y': 237.0, 'compid': '71b5b089-500a-4ea6-81c5-2f960441a0e8', 'category': 'Curve'}), ('ff20977d-4b8c-4cb1-a693-1f4fb849721e', {'x': 1200.0, 'y': 230.0, 'compid': '501aecbb-c191-4d13-83d6-7ee32445ac50', 'category': 'Sets'}), ('6f83defb-7fe7-4387-9b93-216fad26577d', {'x': 1366.0, 'y': 233.0, 'compid': 'a9a8ebd2-fff5-4c44-a8f5-739736d129ba', 'category': 'Maths'}), ('1a11f0e8-9ae6-48cd-9d8a-045025cd2949', {'x': 1378.0, 'y': 69.0, 'compid': '1817fd29-20ae-4503-b542-f0fb651e67d7', 'category': 'Sets'}), ('d48c956a-9753-4ced-8bdc-915eef8ce936', {'x': 1512.010009765625, 'y': 243.5811004638672, 'compid': 'd5967b9f-e8ee-436b-a8ad-29fdcecf32d5', 'category': 'Params'}), ('9ca4bb2e-97e8-444e-b8ab-cef1bc769558', {'x': 1135.0, 'y': 293.0, 'compid': '2e78987b-9dfb-42a2-8b76-3923ac8bd91a', 'category': 'Params'}), ('22e2f70b-464c-444a-9309-4c9116aac413', {'x': 1695.0, 'y': 201.0, 'compid': '59daf374-bc21-4a5e-8282-5504fb7ae9ae', 'category': 'Sets'}), ('404596fd-f9c9-4059-a839-58df0608f6a7', {'x': 1692.0, 'y': 297.0, 'compid': '59daf374-bc21-4a5e-8282-5504fb7ae9ae', 'category': 'Sets'}), ('ff1f71ca-53a7-4471-80b0-aeafa766b580', {'x': 1528.0, 'y': 98.0, 'compid': '2ab17f9a-d852-4405-80e1-938c5e57e78d', 'category': 'Sets'}), ('801c7233-6c02-44ab-b3e2-e5c4cc88a97c', {'x': 1629.0, 'y': -43.0, 'compid': '2ab17f9a-d852-4405-80e1-938c5e57e78d', 'category': 'Sets'}), ('962d599e-da2d-4ea2-936d-d40903e99275', {'x': 1631.0, 'y': -185.0, 'compid': 'dd8134c0-109b-4012-92be-51d843edfff7', 'category': 'Sets'}), ('479b559e-2ab0-4203-adf5-2d689cad0533', {'x': 1225.4010009765625, 'y': 97.29424285888672, 'compid': '57da07bd-ecab-415d-9d86-af36d7073abc', 'category': 'Params'}), ('1e0a5f77-faa7-4ccf-bb78-461b76aebed3', {'x': 1225.7249755859375, 'y': 25.937299728393555, 'compid': '57da07bd-ecab-415d-9d86-af36d7073abc', 'category': 'Params'}), ('aa3c61a2-153d-4ff7-b59d-20beadfdc13f', {'x': 1886.0, 'y': -169.0, 'compid': '3cadddef-1e2b-4c09-9390-0e8f78f7609f', 'category': 'Sets'}), ('c6af3eb6-c038-4fb7-9221-fe72045fbc18', {'x': 1345.1419677734375, 'y': -89.87638092041016, 'compid': '57da07bd-ecab-415d-9d86-af36d7073abc', 'category': 'Params'}), ('a28d7963-e1b4-4237-b9ed-3c1a122c0f20', {'x': 1826.0, 'y': 168.0, 'compid': 'fc6979e4-7e91-4508-8e05-37c680779751', 'category': 'Curve'}), ('bbf70469-bfd6-477a-8c15-a0082d840b4c', {'x': 2006.0, 'y': 133.0, 'compid': '7a01aec4-142c-4319-836d-a550b6b63d2d', 'category': 'Kangaroo'}), ('b1f26c1e-cbb0-4d09-8dd7-a90607787863', {'x': 1823.0, 'y': 264.0, 'compid': 'fc6979e4-7e91-4508-8e05-37c680779751', 'category': 'Curve'}), ('c6eef1bb-2abc-4a0c-8d9d-aa110ed216ea', {'x': 2008.0, 'y': 208.0, 'compid': '7a01aec4-142c-4319-836d-a550b6b63d2d', 'category': 'Kangaroo'}), ('80f30952-65fb-4b6f-bad1-83f74423ffb6', {'x': 2135.0, 'y': 180.0, 'compid': '4c4e56eb-2f04-43f9-95a3-cc46a14f495a', 'category': 'Curve'}), ('b3a019c1-12e4-4b6b-87f6-a44712191d52', {'x': 2260.0, 'y': 152.0, 'compid': '6f93d366-919f-4dda-a35e-ba03dd62799b', 'category': 'Sets'}), ('7a8441a5-540e-4098-8723-c689c367385d', {'x': 2151.0, 'y': 94.0, 'compid': '9abae6b7-fa1d-448c-9209-4a8155345841', 'category': 'Vector'}), ('98360636-2bc0-4375-8da8-e1a4f1b0bc0f', {'x': 1773.343994140625, 'y': -63.10755920410156, 'compid': '57da07bd-ecab-415d-9d86-af36d7073abc', 'category': 'Params'}), ('2c01ec97-578a-4b91-a01a-4aa9e9c7c14b', {'x': 2438.0, 'y': 156.0, 'compid': 'a9a8ebd2-fff5-4c44-a8f5-739736d129ba', 'category': 'Maths'}), ('408c2af3-26dd-469c-943d-7c3486d4a35e', {'x': 2585.0, 'y': 208.0, 'compid': 'a7a41d0a-2188-4f7a-82cc-1a2c4e4ec850', 'category': 'Surface'}), ('9d33aa99-7205-42d4-98c7-da98a71d2ee0', {'x': 2696.534912109375, 'y': 218.16009521484375, 'compid': 'd5967b9f-e8ee-436b-a8ad-29fdcecf32d5', 'category': 'Params'}), ('e9c96325-84d8-481c-9f5a-c514cda85bb9', {'x': 2693.89501953125, 'y': 139.58580017089844, 'compid': '4f8984c4-7c7a-4d69-b0a2-183cbb330d20', 'category': 'Params'}), ('f86d298a-c7e9-4232-9113-429b40476ba1', {'x': 1351.5789794921875, 'y': -250.2906036376953, 'compid': '59e0b89a-e487-49f8-bab8-b5bab16be14c', 'category': 'Params'}), ('955573f4-2f03-48f4-b26f-e3545b54d067', {'x': 1747.0, 'y': -185.0, 'compid': '41aa4112-9c9b-42f4-847e-503b9d90e4c7', 'category': 'Sets'}), ('b689dc05-e91e-41b6-9a7e-431b0aa48221', {'x': 2233.0, 'y': 228.0, 'compid': '2e78987b-9dfb-42a2-8b76-3923ac8bd91a', 'category': 'Params'}), ('7e76fa5d-e043-445c-9b64-48d19dcdb8a2', {'x': 2892.0, 'y': 188.0, 'compid': '1a38d325-98de-455c-93f1-bca431bc1243', 'category': 'Curve'}), ('1fe4338f-4e5e-49a0-bf86-cbd8c2edb4b7', {'x': 2994.0, 'y': 283.0, 'compid': '3cadddef-1e2b-4c09-9390-0e8f78f7609f', 'category': 'Sets'}), ('5a9ce55b-7dc9-4895-8bbb-4cbb6e04780c', {'x': 2767.0, 'y': 98.0, 'compid': 'a3371040-e552-4bc8-b0ff-10a840258e88', 'category': 'Maths'}), ('2f19a35c-f81c-4b97-b30c-6c0601c69c79', {'x': 2456.56591796875, 'y': 69.88345336914062, 'compid': '57da07bd-ecab-415d-9d86-af36d7073abc', 'category': 'Params'}), ('15e7c8b1-3331-429b-a0f4-26745ea8a819', {'x': 3132.0, 'y': 282.0, 'compid': 'a7a41d0a-2188-4f7a-82cc-1a2c4e4ec850', 'category': 'Surface'}), ('ba9b6f81-cad8-468e-886e-4029c256bd47', {'x': 3610.0, 'y': 316.0, 'compid': '290f418a-65ee-406a-a9d0-35699815b512', 'category': 'Transform'}), ('dde6e7ba-673e-4815-806c-ea9ea984943d', {'x': 3224.0, 'y': 359.0, 'compid': '86b28a7e-94d9-4791-8306-e13e10d5f8d5', 'category': 'Surface'}), ('d44eed9d-13d0-4f22-9355-e57f0c61bcbd', {'x': 3693.0, 'y': 151.0, 'compid': '0148a65d-6f42-414a-9db7-9a9b2eb78437', 'category': 'Surface'}), ('e43793c2-e153-4cdd-8314-74a2360a921d', {'x': 4155.0, 'y': 228.0, 'compid': '3cadddef-1e2b-4c09-9390-0e8f78f7609f', 'category': 'Sets'}), ('77f8dd01-3a54-451f-a37e-df742ab556ad', {'x': 3723.0, 'y': 285.0, 'compid': '0148a65d-6f42-414a-9db7-9a9b2eb78437', 'category': 'Surface'}), ('fd5351e6-98ea-4224-bdc9-bd931adf05af', {'x': 3312.0, 'y': 424.0, 'compid': '9abae6b7-fa1d-448c-9209-4a8155345841', 'category': 'Vector'}), ('6c267c0b-25c1-438e-8045-c448a64f1333', {'x': 3420.0, 'y': 424.0, 'compid': '3581f42a-9592-4549-bd6b-1c0fc39d067b', 'category': 'Vector'}), ('3a398720-83c1-4c65-88cf-0558336fd0ee', {'x': 3280.220947265625, 'y': 495.2043151855469, 'compid': '57da07bd-ecab-415d-9d86-af36d7073abc', 'category': 'Params'}), ('490f009b-afa4-4467-80d7-504dd15db333', {'x': 3908.0, 'y': 225.0, 'compid': '3cadddef-1e2b-4c09-9390-0e8f78f7609f', 'category': 'Sets'}), ('e6c63ee5-be73-4db2-9b8e-28bd51f236f3', {'x': 4025.0, 'y': 184.0, 'compid': 'a7a41d0a-2188-4f7a-82cc-1a2c4e4ec850', 'category': 'Surface'}), ('e0caf4ae-3707-4106-86a7-fa8d5cc1949a', {'x': 4139.0, 'y': 146.0, 'compid': '2d61f4e0-47c5-41d6-a41d-6afa96ee63af', 'category': 'Sets'}), ('8c6c497c-55df-46b8-8299-e5411ba8781f', {'x': 4259.0, 'y': 222.0, 'compid': '1addcc85-b04e-46e6-bd4a-6f6c93bf7efd', 'category': 'Surface'}), ('d55741a9-6e17-429d-87f5-799869a9717c', {'x': 4386.0, 'y': 212.0, 'compid': '1817fd29-20ae-4503-b542-f0fb651e67d7', 'category': 'Sets'}), ('907a1378-5927-4feb-9c73-9579f5004f79', {'x': 4751.0, 'y': 264.0, 'compid': '537b0419-bbc2-4ff4-bf08-afe526367b2c', 'category': 'Display'}), ('89a193d3-973f-4a76-a080-6b1e1c49cd65', {'x': 4513.0, 'y': 212.0, 'compid': '2ab17f9a-d852-4405-80e1-938c5e57e78d', 'category': 'Sets'}), ('2b6514d1-b329-4415-80cd-674bd345cc1d', {'x': 4628.0, 'y': 115.0, 'compid': 'a45d68b3-c299-4b17-bdae-7975f216cec6', 'category': 'Display'}), ('4ea26d8d-ad8b-453c-96dc-946d3fc62d8c', {'x': 4278.47314453125, 'y': 103.72129821777344, 'compid': '57da07bd-ecab-415d-9d86-af36d7073abc', 'category': 'Params'})]\n"
     ]
    }
   ],
   "source": [
    "print(graph_data[0].nodes(data=True))\n"
   ],
   "metadata": {
    "collapsed": false,
    "ExecuteTime": {
     "end_time": "2024-03-21T11:56:03.855340200Z",
     "start_time": "2024-03-21T11:56:03.820880Z"
    }
   },
   "id": "78513c896c37c45d",
   "execution_count": 21
  },
  {
   "cell_type": "code",
   "outputs": [],
   "source": [
    "for node, data in combined_graph.nodes(data=True):\n",
    "    # Assign the values of 'x' and 'y' to 'posx' and 'posy'\n",
    "    data['posx'] = data['x']\n",
    "    data['posy'] = data['y']\n",
    "    # Optionally, remove the old 'x' and 'y' keys if they're no longer needed\n",
    "    del data['x']\n",
    "    del data['y']"
   ],
   "metadata": {
    "collapsed": false,
    "ExecuteTime": {
     "end_time": "2024-03-21T11:58:13.895099500Z",
     "start_time": "2024-03-21T11:58:13.875546700Z"
    }
   },
   "id": "b150fd1e24e3b662",
   "execution_count": 22
  },
  {
   "cell_type": "code",
   "outputs": [
    {
     "data": {
      "text/plain": "Data(edge_index=[2, 132214], compid=[106450], category=[106450], posx=[106450], posy=[106450], distance=[132214], s_paramidx=[132214], r_paramidx=[132214], s_access=[132214], r_access=[132214], s_datamapping=[132214], r_datamapping=[132214], s_is_optional=[132214], r_is_optional=[132214], num_nodes=106450)"
     },
     "execution_count": 24,
     "metadata": {},
     "output_type": "execute_result"
    }
   ],
   "source": [
    "d = utils.from_networkx(combined_graph)\n",
    "d"
   ],
   "metadata": {
    "collapsed": false,
    "ExecuteTime": {
     "end_time": "2024-03-21T11:58:30.136351100Z",
     "start_time": "2024-03-21T11:58:28.383369300Z"
    }
   },
   "id": "5870ff99c01475be",
   "execution_count": 24
  },
  {
   "cell_type": "code",
   "outputs": [],
   "source": [
    "# # Create a lookup table for all the nodes\n",
    "# \"\"\"we need to reorder the graphs because the node indices are not unique across the graphs and pytorch will order their indicies according to each node index\"\"\"\n",
    "# node_lookup = {}\n",
    "# node_counter = 0\n",
    "# for i, graph in enumerate(graph_data):\n",
    "#     for node in graph.nodes():\n",
    "#         if node not in node_lookup:\n",
    "#             node_lookup[node] = node_counter\n",
    "#             node_counter += 1\n",
    "# \n",
    "# reordered_graphs = []\n",
    "# for graph in graph_data:\n",
    "#     reordered_graph = nx.relabel_nodes(graph, {node: node_lookup[node] for node in graph.nodes()})\n",
    "#     reordered_graphs.append(reordered_graph)\n",
    "\n"
   ],
   "metadata": {
    "collapsed": false,
    "ExecuteTime": {
     "end_time": "2024-03-21T11:47:30.533561500Z",
     "start_time": "2024-03-21T11:47:30.515538Z"
    }
   },
   "id": "bee503fc5cb9001e",
   "execution_count": 8
  },
  {
   "cell_type": "code",
   "outputs": [
    {
     "ename": "KeyError",
     "evalue": "'x'",
     "output_type": "error",
     "traceback": [
      "\u001B[1;31m---------------------------------------------------------------------------\u001B[0m",
      "\u001B[1;31mKeyError\u001B[0m                                  Traceback (most recent call last)",
      "Cell \u001B[1;32mIn[18], line 3\u001B[0m\n\u001B[0;32m      1\u001B[0m \u001B[38;5;66;03m#remove the isolated nodes from the combined graph\u001B[39;00m\n\u001B[0;32m      2\u001B[0m combined_graph\u001B[38;5;241m.\u001B[39mremove_nodes_from(\u001B[38;5;28mlist\u001B[39m(nx\u001B[38;5;241m.\u001B[39misolates(combined_graph)))\n\u001B[1;32m----> 3\u001B[0m \u001B[43mcombined_graph\u001B[49m\u001B[43m[\u001B[49m\u001B[38;5;124;43m'\u001B[39;49m\u001B[38;5;124;43mx\u001B[39;49m\u001B[38;5;124;43m'\u001B[39;49m\u001B[43m]\u001B[49m\n\u001B[0;32m      4\u001B[0m \u001B[38;5;66;03m# ds = utils.from_networkx(combined_graph)\u001B[39;00m\n\u001B[0;32m      5\u001B[0m \u001B[38;5;66;03m# print(f'Number of nodes: {d.num_nodes}')\u001B[39;00m\n\u001B[0;32m      6\u001B[0m \u001B[38;5;66;03m# print(f'Number of edges: {d.num_edges}')\u001B[39;00m\n\u001B[1;32m   (...)\u001B[0m\n\u001B[0;32m      9\u001B[0m \u001B[38;5;66;03m# print(f'Contains self-loops: {d.contains_self_loops()}')\u001B[39;00m\n\u001B[0;32m     10\u001B[0m \u001B[38;5;66;03m# print(f'Is undirected: {d.is_undirected()}')\u001B[39;00m\n",
      "File \u001B[1;32m~\\anaconda3\\envs\\gnns\\lib\\site-packages\\networkx\\classes\\graph.py:513\u001B[0m, in \u001B[0;36mGraph.__getitem__\u001B[1;34m(self, n)\u001B[0m\n\u001B[0;32m    489\u001B[0m \u001B[38;5;28;01mdef\u001B[39;00m \u001B[38;5;21m__getitem__\u001B[39m(\u001B[38;5;28mself\u001B[39m, n):\n\u001B[0;32m    490\u001B[0m \u001B[38;5;250m    \u001B[39m\u001B[38;5;124;03m\"\"\"Returns a dict of neighbors of node n.  Use: 'G[n]'.\u001B[39;00m\n\u001B[0;32m    491\u001B[0m \n\u001B[0;32m    492\u001B[0m \u001B[38;5;124;03m    Parameters\u001B[39;00m\n\u001B[1;32m   (...)\u001B[0m\n\u001B[0;32m    511\u001B[0m \u001B[38;5;124;03m    AtlasView({1: {}})\u001B[39;00m\n\u001B[0;32m    512\u001B[0m \u001B[38;5;124;03m    \"\"\"\u001B[39;00m\n\u001B[1;32m--> 513\u001B[0m     \u001B[38;5;28;01mreturn\u001B[39;00m \u001B[38;5;28;43mself\u001B[39;49m\u001B[38;5;241;43m.\u001B[39;49m\u001B[43madj\u001B[49m\u001B[43m[\u001B[49m\u001B[43mn\u001B[49m\u001B[43m]\u001B[49m\n",
      "File \u001B[1;32m~\\anaconda3\\envs\\gnns\\lib\\site-packages\\networkx\\classes\\coreviews.py:81\u001B[0m, in \u001B[0;36mAdjacencyView.__getitem__\u001B[1;34m(self, name)\u001B[0m\n\u001B[0;32m     80\u001B[0m \u001B[38;5;28;01mdef\u001B[39;00m \u001B[38;5;21m__getitem__\u001B[39m(\u001B[38;5;28mself\u001B[39m, name):\n\u001B[1;32m---> 81\u001B[0m     \u001B[38;5;28;01mreturn\u001B[39;00m AtlasView(\u001B[38;5;28;43mself\u001B[39;49m\u001B[38;5;241;43m.\u001B[39;49m\u001B[43m_atlas\u001B[49m\u001B[43m[\u001B[49m\u001B[43mname\u001B[49m\u001B[43m]\u001B[49m)\n",
      "\u001B[1;31mKeyError\u001B[0m: 'x'"
     ]
    }
   ],
   "source": [
    "#remove the isolated nodes from the combined graph\n",
    "combined_graph.remove_nodes_from(list(nx.isolates(combined_graph)))\n",
    "combined_graph\n",
    "# ds = utils.from_networkx(combined_graph)\n",
    "# print(f'Number of nodes: {d.num_nodes}')\n",
    "# print(f'Number of edges: {d.num_edges}')\n",
    "# print(f'Average node degree: {d.num_edges / d.num_nodes:.2f}')\n",
    "# print(f'Contains isolated nodes: {d.contains_isolated_nodes()}')\n",
    "# print(f'Contains self-loops: {d.contains_self_loops()}')\n",
    "# print(f'Is undirected: {d.is_undirected()}')\n"
   ],
   "metadata": {
    "collapsed": false,
    "ExecuteTime": {
     "end_time": "2024-03-21T11:49:54.019721Z",
     "start_time": "2024-03-21T11:49:53.926245700Z"
    }
   },
   "id": "6bf0b6a797216011",
   "execution_count": 18
  },
  {
   "cell_type": "code",
   "outputs": [
    {
     "name": "stdout",
     "output_type": "stream",
     "text": [
      "Highest node degree: 53\n",
      "Lowest node degree: 1\n",
      "Median node degree: 2\n",
      "Mean node degree: 2.48\n"
     ]
    }
   ],
   "source": [
    "degs = sorted([d for n, d in list(nx.degree(combined_graph))], reverse=True)\n",
    "print(f'Highest node degree: {degs[0]}')\n",
    "print(f'Lowest node degree: {degs[-1]}')\n",
    "print(f'Median node degree: {degs[len(degs) // 2]}')\n",
    "print(f'Mean node degree: {sum(degs) / len(degs):.2f}')"
   ],
   "metadata": {
    "collapsed": false,
    "ExecuteTime": {
     "end_time": "2024-03-21T11:47:32.163399800Z",
     "start_time": "2024-03-21T11:47:32.102364900Z"
    }
   },
   "id": "8533c98305af6b3b",
   "execution_count": 10
  },
  {
   "cell_type": "code",
   "outputs": [
    {
     "data": {
      "text/plain": "Data(x=[106450], edge_index=[2, 132214], y=[106450], compid=[106450], category=[106450], distance=[132214], s_paramidx=[132214], r_paramidx=[132214], s_access=[132214], r_access=[132214], s_datamapping=[132214], r_datamapping=[132214], s_is_optional=[132214], r_is_optional=[132214])"
     },
     "execution_count": 17,
     "metadata": {},
     "output_type": "execute_result"
    }
   ],
   "source": [
    "ds"
   ],
   "metadata": {
    "collapsed": false,
    "ExecuteTime": {
     "end_time": "2024-03-21T11:48:35.985021500Z",
     "start_time": "2024-03-21T11:48:35.968694400Z"
    }
   },
   "id": "44dd94bfed4df93",
   "execution_count": 17
  },
  {
   "cell_type": "markdown",
   "source": [
    "Implemending the GNN model"
   ],
   "metadata": {
    "collapsed": false
   },
   "id": "e83ddb41ede6c1b2"
  },
  {
   "cell_type": "code",
   "outputs": [],
   "source": [],
   "metadata": {
    "collapsed": false,
    "ExecuteTime": {
     "end_time": "2024-03-21T11:47:32.212225400Z",
     "start_time": "2024-03-21T11:47:32.178739300Z"
    }
   },
   "id": "802dd67fa559b832",
   "execution_count": 11
  },
  {
   "cell_type": "code",
   "outputs": [],
   "source": [
    "import torch\n",
    "import torch.nn.functional as F\n",
    "from torch_geometric.nn import GCNConv, LayerNorm, Sequential, Linear\n",
    "\n",
    "class GNN(torch.nn.Module):\n",
    "    def __init__(self):\n",
    "        super(GNN, self).__init__()\n",
    "        self.conv1 = GCNConv(ds.num_features, 16)\n",
    "        self.conv2 = GCNConv(16, 16)\n",
    "        self.conv3 = GCNConv(16, 16)\n",
    "        self.lns = LayerNorm(16)\n",
    "        self.post_mp = torch.nn.Sequential(\n",
    "            Linear(16, 16),\n",
    "            torch.nn.Dropout(0.25),\n",
    "            Linear(16, 2)\n",
    "        )\n",
    "        \n",
    "    def forward(self, data):\n",
    "        x, edge_index = data.x, data.edge_index\n",
    "        x = self.conv1(x, edge_index)\n",
    "        x = F.relu(x)\n",
    "        x = F.dropout(x, p=0.25, training=self.training)\n",
    "                # x= self.conv2(x, edge_index)\n",
    "                # x = F.relu(x)\n",
    "                # x = F.dropout(x, p=0.25, training=self.training)\n",
    "                # x =self.lns(x)\n",
    "                # x = self.conv3(x, edge_index)\n",
    "                # x= F.relu(x)\n",
    "                # x = F.dropout(x, p=0.25, training=self.training)\n",
    "                # x = self.post_mp(x)\n",
    "        return x, F.log_softmax(x, dim=1)\n",
    "    \n"
   ],
   "metadata": {
    "collapsed": false,
    "ExecuteTime": {
     "end_time": "2024-03-21T11:47:32.213353900Z",
     "start_time": "2024-03-21T11:47:32.197310700Z"
    }
   },
   "id": "1de2efba2de189fb",
   "execution_count": 12
  },
  {
   "cell_type": "code",
   "outputs": [
    {
     "ename": "IndexError",
     "evalue": "Dimension out of range (expected to be in range of [-1, 0], but got -2)",
     "output_type": "error",
     "traceback": [
      "\u001B[1;31m---------------------------------------------------------------------------\u001B[0m",
      "\u001B[1;31mIndexError\u001B[0m                                Traceback (most recent call last)",
      "Cell \u001B[1;32mIn[13], line 3\u001B[0m\n\u001B[0;32m      1\u001B[0m \u001B[38;5;28;01mfrom\u001B[39;00m \u001B[38;5;21;01msklearn\u001B[39;00m\u001B[38;5;21;01m.\u001B[39;00m\u001B[38;5;21;01mmanifold\u001B[39;00m \u001B[38;5;28;01mimport\u001B[39;00m TSNE\n\u001B[0;32m      2\u001B[0m model \u001B[38;5;241m=\u001B[39m GNN()\n\u001B[1;32m----> 3\u001B[0m embedding, out \u001B[38;5;241m=\u001B[39m \u001B[43mmodel\u001B[49m\u001B[43m(\u001B[49m\u001B[43mds\u001B[49m\u001B[43m)\u001B[49m\n\u001B[0;32m      4\u001B[0m color_list \u001B[38;5;241m=\u001B[39m [\u001B[38;5;124m\"\u001B[39m\u001B[38;5;124mred\u001B[39m\u001B[38;5;124m\"\u001B[39m, \u001B[38;5;124m\"\u001B[39m\u001B[38;5;124morange\u001B[39m\u001B[38;5;124m\"\u001B[39m, \u001B[38;5;124m\"\u001B[39m\u001B[38;5;124mgreen\u001B[39m\u001B[38;5;124m\"\u001B[39m, \u001B[38;5;124m\"\u001B[39m\u001B[38;5;124mblue\u001B[39m\u001B[38;5;124m\"\u001B[39m, \u001B[38;5;124m\"\u001B[39m\u001B[38;5;124mpurple\u001B[39m\u001B[38;5;124m\"\u001B[39m, \u001B[38;5;124m\"\u001B[39m\u001B[38;5;124mbrown\u001B[39m\u001B[38;5;124m\"\u001B[39m, \u001B[38;5;124m\"\u001B[39m\u001B[38;5;124mpink\u001B[39m\u001B[38;5;124m\"\u001B[39m, \u001B[38;5;124m\"\u001B[39m\u001B[38;5;124mgray\u001B[39m\u001B[38;5;124m\"\u001B[39m, \u001B[38;5;124m\"\u001B[39m\u001B[38;5;124molive\u001B[39m\u001B[38;5;124m\"\u001B[39m, \u001B[38;5;124m\"\u001B[39m\u001B[38;5;124mcyan\u001B[39m\u001B[38;5;124m\"\u001B[39m, \u001B[38;5;124m\"\u001B[39m\u001B[38;5;124mlime\u001B[39m\u001B[38;5;124m\"\u001B[39m] \u001B[38;5;66;03m#C\u001B[39;00m\n\u001B[0;32m      5\u001B[0m colors \u001B[38;5;241m=\u001B[39m [] \u001B[38;5;66;03m#D\u001B[39;00m\n",
      "File \u001B[1;32m~\\anaconda3\\envs\\gnns\\lib\\site-packages\\torch\\nn\\modules\\module.py:1511\u001B[0m, in \u001B[0;36mModule._wrapped_call_impl\u001B[1;34m(self, *args, **kwargs)\u001B[0m\n\u001B[0;32m   1509\u001B[0m     \u001B[38;5;28;01mreturn\u001B[39;00m \u001B[38;5;28mself\u001B[39m\u001B[38;5;241m.\u001B[39m_compiled_call_impl(\u001B[38;5;241m*\u001B[39margs, \u001B[38;5;241m*\u001B[39m\u001B[38;5;241m*\u001B[39mkwargs)  \u001B[38;5;66;03m# type: ignore[misc]\u001B[39;00m\n\u001B[0;32m   1510\u001B[0m \u001B[38;5;28;01melse\u001B[39;00m:\n\u001B[1;32m-> 1511\u001B[0m     \u001B[38;5;28;01mreturn\u001B[39;00m \u001B[38;5;28;43mself\u001B[39;49m\u001B[38;5;241;43m.\u001B[39;49m\u001B[43m_call_impl\u001B[49m\u001B[43m(\u001B[49m\u001B[38;5;241;43m*\u001B[39;49m\u001B[43margs\u001B[49m\u001B[43m,\u001B[49m\u001B[43m \u001B[49m\u001B[38;5;241;43m*\u001B[39;49m\u001B[38;5;241;43m*\u001B[39;49m\u001B[43mkwargs\u001B[49m\u001B[43m)\u001B[49m\n",
      "File \u001B[1;32m~\\anaconda3\\envs\\gnns\\lib\\site-packages\\torch\\nn\\modules\\module.py:1520\u001B[0m, in \u001B[0;36mModule._call_impl\u001B[1;34m(self, *args, **kwargs)\u001B[0m\n\u001B[0;32m   1515\u001B[0m \u001B[38;5;66;03m# If we don't have any hooks, we want to skip the rest of the logic in\u001B[39;00m\n\u001B[0;32m   1516\u001B[0m \u001B[38;5;66;03m# this function, and just call forward.\u001B[39;00m\n\u001B[0;32m   1517\u001B[0m \u001B[38;5;28;01mif\u001B[39;00m \u001B[38;5;129;01mnot\u001B[39;00m (\u001B[38;5;28mself\u001B[39m\u001B[38;5;241m.\u001B[39m_backward_hooks \u001B[38;5;129;01mor\u001B[39;00m \u001B[38;5;28mself\u001B[39m\u001B[38;5;241m.\u001B[39m_backward_pre_hooks \u001B[38;5;129;01mor\u001B[39;00m \u001B[38;5;28mself\u001B[39m\u001B[38;5;241m.\u001B[39m_forward_hooks \u001B[38;5;129;01mor\u001B[39;00m \u001B[38;5;28mself\u001B[39m\u001B[38;5;241m.\u001B[39m_forward_pre_hooks\n\u001B[0;32m   1518\u001B[0m         \u001B[38;5;129;01mor\u001B[39;00m _global_backward_pre_hooks \u001B[38;5;129;01mor\u001B[39;00m _global_backward_hooks\n\u001B[0;32m   1519\u001B[0m         \u001B[38;5;129;01mor\u001B[39;00m _global_forward_hooks \u001B[38;5;129;01mor\u001B[39;00m _global_forward_pre_hooks):\n\u001B[1;32m-> 1520\u001B[0m     \u001B[38;5;28;01mreturn\u001B[39;00m \u001B[43mforward_call\u001B[49m\u001B[43m(\u001B[49m\u001B[38;5;241;43m*\u001B[39;49m\u001B[43margs\u001B[49m\u001B[43m,\u001B[49m\u001B[43m \u001B[49m\u001B[38;5;241;43m*\u001B[39;49m\u001B[38;5;241;43m*\u001B[39;49m\u001B[43mkwargs\u001B[49m\u001B[43m)\u001B[49m\n\u001B[0;32m   1522\u001B[0m \u001B[38;5;28;01mtry\u001B[39;00m:\n\u001B[0;32m   1523\u001B[0m     result \u001B[38;5;241m=\u001B[39m \u001B[38;5;28;01mNone\u001B[39;00m\n",
      "Cell \u001B[1;32mIn[12], line 20\u001B[0m, in \u001B[0;36mGNN.forward\u001B[1;34m(self, data)\u001B[0m\n\u001B[0;32m     18\u001B[0m \u001B[38;5;28;01mdef\u001B[39;00m \u001B[38;5;21mforward\u001B[39m(\u001B[38;5;28mself\u001B[39m, data):\n\u001B[0;32m     19\u001B[0m     x, edge_index \u001B[38;5;241m=\u001B[39m data\u001B[38;5;241m.\u001B[39mx, data\u001B[38;5;241m.\u001B[39medge_index\n\u001B[1;32m---> 20\u001B[0m     x \u001B[38;5;241m=\u001B[39m \u001B[38;5;28;43mself\u001B[39;49m\u001B[38;5;241;43m.\u001B[39;49m\u001B[43mconv1\u001B[49m\u001B[43m(\u001B[49m\u001B[43mx\u001B[49m\u001B[43m,\u001B[49m\u001B[43m \u001B[49m\u001B[43medge_index\u001B[49m\u001B[43m)\u001B[49m\n\u001B[0;32m     21\u001B[0m     x \u001B[38;5;241m=\u001B[39m F\u001B[38;5;241m.\u001B[39mrelu(x)\n\u001B[0;32m     22\u001B[0m     x \u001B[38;5;241m=\u001B[39m F\u001B[38;5;241m.\u001B[39mdropout(x, p\u001B[38;5;241m=\u001B[39m\u001B[38;5;241m0.25\u001B[39m, training\u001B[38;5;241m=\u001B[39m\u001B[38;5;28mself\u001B[39m\u001B[38;5;241m.\u001B[39mtraining)\n",
      "File \u001B[1;32m~\\anaconda3\\envs\\gnns\\lib\\site-packages\\torch\\nn\\modules\\module.py:1511\u001B[0m, in \u001B[0;36mModule._wrapped_call_impl\u001B[1;34m(self, *args, **kwargs)\u001B[0m\n\u001B[0;32m   1509\u001B[0m     \u001B[38;5;28;01mreturn\u001B[39;00m \u001B[38;5;28mself\u001B[39m\u001B[38;5;241m.\u001B[39m_compiled_call_impl(\u001B[38;5;241m*\u001B[39margs, \u001B[38;5;241m*\u001B[39m\u001B[38;5;241m*\u001B[39mkwargs)  \u001B[38;5;66;03m# type: ignore[misc]\u001B[39;00m\n\u001B[0;32m   1510\u001B[0m \u001B[38;5;28;01melse\u001B[39;00m:\n\u001B[1;32m-> 1511\u001B[0m     \u001B[38;5;28;01mreturn\u001B[39;00m \u001B[38;5;28;43mself\u001B[39;49m\u001B[38;5;241;43m.\u001B[39;49m\u001B[43m_call_impl\u001B[49m\u001B[43m(\u001B[49m\u001B[38;5;241;43m*\u001B[39;49m\u001B[43margs\u001B[49m\u001B[43m,\u001B[49m\u001B[43m \u001B[49m\u001B[38;5;241;43m*\u001B[39;49m\u001B[38;5;241;43m*\u001B[39;49m\u001B[43mkwargs\u001B[49m\u001B[43m)\u001B[49m\n",
      "File \u001B[1;32m~\\anaconda3\\envs\\gnns\\lib\\site-packages\\torch\\nn\\modules\\module.py:1520\u001B[0m, in \u001B[0;36mModule._call_impl\u001B[1;34m(self, *args, **kwargs)\u001B[0m\n\u001B[0;32m   1515\u001B[0m \u001B[38;5;66;03m# If we don't have any hooks, we want to skip the rest of the logic in\u001B[39;00m\n\u001B[0;32m   1516\u001B[0m \u001B[38;5;66;03m# this function, and just call forward.\u001B[39;00m\n\u001B[0;32m   1517\u001B[0m \u001B[38;5;28;01mif\u001B[39;00m \u001B[38;5;129;01mnot\u001B[39;00m (\u001B[38;5;28mself\u001B[39m\u001B[38;5;241m.\u001B[39m_backward_hooks \u001B[38;5;129;01mor\u001B[39;00m \u001B[38;5;28mself\u001B[39m\u001B[38;5;241m.\u001B[39m_backward_pre_hooks \u001B[38;5;129;01mor\u001B[39;00m \u001B[38;5;28mself\u001B[39m\u001B[38;5;241m.\u001B[39m_forward_hooks \u001B[38;5;129;01mor\u001B[39;00m \u001B[38;5;28mself\u001B[39m\u001B[38;5;241m.\u001B[39m_forward_pre_hooks\n\u001B[0;32m   1518\u001B[0m         \u001B[38;5;129;01mor\u001B[39;00m _global_backward_pre_hooks \u001B[38;5;129;01mor\u001B[39;00m _global_backward_hooks\n\u001B[0;32m   1519\u001B[0m         \u001B[38;5;129;01mor\u001B[39;00m _global_forward_hooks \u001B[38;5;129;01mor\u001B[39;00m _global_forward_pre_hooks):\n\u001B[1;32m-> 1520\u001B[0m     \u001B[38;5;28;01mreturn\u001B[39;00m \u001B[43mforward_call\u001B[49m\u001B[43m(\u001B[49m\u001B[38;5;241;43m*\u001B[39;49m\u001B[43margs\u001B[49m\u001B[43m,\u001B[49m\u001B[43m \u001B[49m\u001B[38;5;241;43m*\u001B[39;49m\u001B[38;5;241;43m*\u001B[39;49m\u001B[43mkwargs\u001B[49m\u001B[43m)\u001B[49m\n\u001B[0;32m   1522\u001B[0m \u001B[38;5;28;01mtry\u001B[39;00m:\n\u001B[0;32m   1523\u001B[0m     result \u001B[38;5;241m=\u001B[39m \u001B[38;5;28;01mNone\u001B[39;00m\n",
      "File \u001B[1;32m~\\anaconda3\\envs\\gnns\\lib\\site-packages\\torch_geometric\\nn\\conv\\gcn_conv.py:242\u001B[0m, in \u001B[0;36mGCNConv.forward\u001B[1;34m(self, x, edge_index, edge_weight)\u001B[0m\n\u001B[0;32m    239\u001B[0m cache \u001B[38;5;241m=\u001B[39m \u001B[38;5;28mself\u001B[39m\u001B[38;5;241m.\u001B[39m_cached_edge_index\n\u001B[0;32m    240\u001B[0m \u001B[38;5;28;01mif\u001B[39;00m cache \u001B[38;5;129;01mis\u001B[39;00m \u001B[38;5;28;01mNone\u001B[39;00m:\n\u001B[0;32m    241\u001B[0m     edge_index, edge_weight \u001B[38;5;241m=\u001B[39m gcn_norm(  \u001B[38;5;66;03m# yapf: disable\u001B[39;00m\n\u001B[1;32m--> 242\u001B[0m         edge_index, edge_weight, \u001B[43mx\u001B[49m\u001B[38;5;241;43m.\u001B[39;49m\u001B[43msize\u001B[49m\u001B[43m(\u001B[49m\u001B[38;5;28;43mself\u001B[39;49m\u001B[38;5;241;43m.\u001B[39;49m\u001B[43mnode_dim\u001B[49m\u001B[43m)\u001B[49m,\n\u001B[0;32m    243\u001B[0m         \u001B[38;5;28mself\u001B[39m\u001B[38;5;241m.\u001B[39mimproved, \u001B[38;5;28mself\u001B[39m\u001B[38;5;241m.\u001B[39madd_self_loops, \u001B[38;5;28mself\u001B[39m\u001B[38;5;241m.\u001B[39mflow, x\u001B[38;5;241m.\u001B[39mdtype)\n\u001B[0;32m    244\u001B[0m     \u001B[38;5;28;01mif\u001B[39;00m \u001B[38;5;28mself\u001B[39m\u001B[38;5;241m.\u001B[39mcached:\n\u001B[0;32m    245\u001B[0m         \u001B[38;5;28mself\u001B[39m\u001B[38;5;241m.\u001B[39m_cached_edge_index \u001B[38;5;241m=\u001B[39m (edge_index, edge_weight)\n",
      "\u001B[1;31mIndexError\u001B[0m: Dimension out of range (expected to be in range of [-1, 0], but got -2)"
     ]
    }
   ],
   "source": [
    "from sklearn.manifold import TSNE\n",
    "model = GNN()\n",
    "embedding, out = model(ds)\n",
    "color_list = [\"red\", \"orange\", \"green\", \"blue\", \"purple\", \"brown\", \"pink\", \"gray\", \"olive\", \"cyan\", \"lime\"] #C\n",
    "colors = [] #D\n",
    "colors += [color_list[y] for y in ds.y.detach().numpy()] #E\n",
    "xs, ys = zip(*TSNE().fit_transform(embedding.detach().numpy())) #F\n",
    "plt.scatter(xs, ys, c=colors) #G"
   ],
   "metadata": {
    "collapsed": false,
    "ExecuteTime": {
     "end_time": "2024-03-21T11:47:33.168404800Z",
     "start_time": "2024-03-21T11:47:32.212353700Z"
    }
   },
   "id": "2df63b80f850a5cb",
   "execution_count": 13
  },
  {
   "cell_type": "code",
   "outputs": [],
   "source": [
    "# combined_graph = nx.compose_all(graph_data[:2])\n",
    "# for graph in graph_data[:2]:\n",
    "#     plot_graph_by_category(graph)\n",
    "# plot_graph_by_category(combined_graph)"
   ],
   "metadata": {
    "collapsed": false,
    "ExecuteTime": {
     "start_time": "2024-03-21T11:47:33.164403700Z"
    }
   },
   "id": "d83f1cd7ac2a511c",
   "execution_count": null
  },
  {
   "cell_type": "code",
   "outputs": [],
   "source": [
    "print(len(combined_graph))\n",
    "print(combined_graph.number_of_nodes())\n",
    "print(nx.number_connected_components(combined_graph))\n"
   ],
   "metadata": {
    "collapsed": false,
    "ExecuteTime": {
     "start_time": "2024-03-21T11:47:33.166405Z"
    }
   },
   "id": "45ee71ace2d829a2",
   "execution_count": null
  },
  {
   "cell_type": "code",
   "outputs": [],
   "source": [
    "data = [utils.from_networkx(G) for G in graph_data]\n",
    "data[0]['edge_index']"
   ],
   "metadata": {
    "collapsed": false,
    "ExecuteTime": {
     "start_time": "2024-03-21T11:47:33.167405600Z"
    }
   },
   "id": "76f69fac2f5fd57b",
   "execution_count": null
  },
  {
   "cell_type": "code",
   "outputs": [],
   "source": [
    "# import System\n",
    "# # import Counter \n",
    "# from collections import Counter\n",
    "\n",
    "# guids = [v for d in data for v in d['guid']]\n",
    "# counter = Counter(guids)\n",
    "# tops = counter.most_common(1000)\n",
    "# names = []\n",
    "# categories = []\n",
    "# counts = []\n",
    "# for t, c in tops:\n",
    "#     name = GHComponentTable.search_component_by_guid(System.Guid(t)).Desc.Name\n",
    "#     names.append(name)\n",
    "#     category = GHComponentTable.search_component_by_guid(System.Guid(t)).Desc.Category\n",
    "#     categories.append(category)\n",
    "#     counts.append(c)\n",
    "# # components = [GHComponentTable.search_component_by_guid(System.Guid(g)) for g in guids]\n",
    "# # components"
   ],
   "metadata": {
    "collapsed": false,
    "ExecuteTime": {
     "end_time": "2024-03-21T11:47:33.169404400Z",
     "start_time": "2024-03-21T11:47:33.168404800Z"
    }
   },
   "id": "1c668bd4c6d1825c",
   "execution_count": null
  },
  {
   "cell_type": "markdown",
   "source": [],
   "metadata": {
    "collapsed": false
   },
   "id": "b5289ceb033cf0f4"
  },
  {
   "cell_type": "code",
   "outputs": [],
   "source": [
    "plot = False\n",
    "if plot:\n",
    "    # Set the font size globally\n",
    "    plt.rcParams.update({'font.size': 5})  \n",
    "    plt.figure(figsize=(10,200))\n",
    "    \n",
    "    x = counts\n",
    "    y = [f\"{categories[i]}:{name}\" for i, name in enumerate(names)]\n",
    "    sns.barplot(x=x, y=y)\n"
   ],
   "metadata": {
    "collapsed": false,
    "ExecuteTime": {
     "end_time": "2024-03-21T11:47:33.172420200Z",
     "start_time": "2024-03-21T11:47:33.169404400Z"
    }
   },
   "id": "7b3b8b39772701c5",
   "execution_count": null
  },
  {
   "cell_type": "markdown",
   "source": [],
   "metadata": {
    "collapsed": false
   },
   "id": "2d02164802f26afa"
  },
  {
   "cell_type": "code",
   "outputs": [],
   "source": [],
   "metadata": {
    "collapsed": false,
    "ExecuteTime": {
     "start_time": "2024-03-21T11:47:33.170911800Z"
    }
   },
   "id": "d9d0650c2e979ad3",
   "execution_count": null
  },
  {
   "cell_type": "code",
   "outputs": [],
   "source": [],
   "metadata": {
    "collapsed": false,
    "ExecuteTime": {
     "start_time": "2024-03-21T11:47:33.172420200Z"
    }
   },
   "id": "6329c48974817468",
   "execution_count": null
  },
  {
   "cell_type": "code",
   "outputs": [],
   "source": [],
   "metadata": {
    "collapsed": false,
    "ExecuteTime": {
     "end_time": "2024-03-21T11:47:33.173420Z",
     "start_time": "2024-03-21T11:47:33.172420200Z"
    }
   },
   "id": "263c940d46b968af",
   "execution_count": null
  },
  {
   "cell_type": "code",
   "outputs": [],
   "source": [],
   "metadata": {
    "collapsed": false,
    "ExecuteTime": {
     "end_time": "2024-03-21T11:47:33.173420Z",
     "start_time": "2024-03-21T11:47:33.173420Z"
    }
   },
   "id": "15f11829be4c29bf",
   "execution_count": null
  },
  {
   "cell_type": "code",
   "outputs": [],
   "source": [],
   "metadata": {
    "collapsed": false,
    "ExecuteTime": {
     "end_time": "2024-03-21T11:47:33.185502600Z",
     "start_time": "2024-03-21T11:47:33.174420300Z"
    }
   },
   "id": "8dac85592c5df4d1",
   "execution_count": null
  }
 ],
 "metadata": {
  "kernelspec": {
   "display_name": "Python 3",
   "language": "python",
   "name": "python3"
  },
  "language_info": {
   "codemirror_mode": {
    "name": "ipython",
    "version": 2
   },
   "file_extension": ".py",
   "mimetype": "text/x-python",
   "name": "python",
   "nbconvert_exporter": "python",
   "pygments_lexer": "ipython2",
   "version": "2.7.6"
  }
 },
 "nbformat": 4,
 "nbformat_minor": 5
}
